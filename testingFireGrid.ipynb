{
 "cells": [
  {
   "cell_type": "markdown",
   "metadata": {},
   "source": [
    "<center><h1>Testing and Documentation Notebook for Cellular Automaton Using Inheritance from Numpy NDArray</h1></center>\n",
    "<p>This document is for testing of a cellular automaton class which inherits much of its functionality from the Numpy module.  The class enables use of the array opperations (implemented in C) which should make the execution speed better.</p>\n",
    "<h2>Initialization</h2>"
   ]
  },
  {
   "cell_type": "code",
   "execution_count": 76,
   "metadata": {
    "collapsed": false,
    "scrolled": true
   },
   "outputs": [],
   "source": [
    "from FireSimulation import *\n",
    "FireGrid.IncludeDiagonalNeighbors = False\n",
    "\n",
    "from IPython.display import display\n",
    "from IPython.display import HTML\n",
    "import inspect\n",
    "from random import uniform\n",
    "\n",
    "from math import *\n",
    "%matplotlib inline\n",
    "import matplotlib\n",
    "from matplotlib import pyplot as plt\n",
    "from matplotlib import animation\n",
    "matplotlib.rc('animation', html='html5')\n",
    "goldenratio=1/2*(1+sqrt(5))\n",
    "fsx=7\n",
    "fsy=fsx/goldenratio\n",
    "\n",
    "def InfoDocString(function):\n",
    "    \"\"\"Function to return function definition and document string.\"\"\"\n",
    "    \n",
    "    code = inspect.getsource(function)\n",
    "    docstring = inspect.getdoc(function)\n",
    "    return code[0:code.find(':')+1].lstrip() +'\\n' + docstring"
   ]
  },
  {
   "cell_type": "markdown",
   "metadata": {},
   "source": [
    "<h3>Functions to help with testing</h3>"
   ]
  },
  {
   "cell_type": "code",
   "execution_count": 2,
   "metadata": {
    "collapsed": false,
    "scrolled": false
   },
   "outputs": [],
   "source": [
    "MyDtype = numpy.dtype([('Tree', bool), ('Burning', bool), ('ProbImmune', 'f'), ('Value', 'f', (3,))])\n",
    "\n",
    "def init(grid, rows, columns):\n",
    "    for y in range(rows):\n",
    "        for x in range(columns):\n",
    "            grid['ProbImmune'][y][x]  = random() * 4\n",
    "            if random() < 0.75:\n",
    "                MyGrid['Tree'][y][x]    = True\n",
    "                MyGrid['Burning'][y][x] = random() < 0.1\n",
    "            else:\n",
    "                MyGrid['Tree'][y][x]    = False\n",
    "                MyGrid['Burning'][y][x] = False\n",
    "    grid.SetValue()\n",
    "    grid.SetBoundary()"
   ]
  },
  {
   "cell_type": "code",
   "execution_count": 5,
   "metadata": {
    "collapsed": false,
    "scrolled": false
   },
   "outputs": [
    {
     "data": {
      "image/png": "[encoded data removed]",
      "text/plain": [
       "<matplotlib.figure.Figure at 0x7f707c5e09b0>"
      ]
     },
     "metadata": {},
     "output_type": "display_data"
    }
   ],
   "source": [
    "MyFigure, MyAxes = plt.subplots(1,1,figsize=(fsx,fsy))"
   ]
  },
  {
   "cell_type": "markdown",
   "metadata": {},
   "source": [
    "<h2>Class Structure</h2>\n",
    "<p>The class FireGrid inherts CAGird.  The information about this class is below.</p>"
   ]
  },
  {
   "cell_type": "code",
   "execution_count": 7,
   "metadata": {
    "collapsed": false,
    "scrolled": false
   },
   "outputs": [
    {
     "name": "stdout",
     "output_type": "stream",
     "text": [
      "class FireGrid(CAGrid):\n",
      "This class derives from CAGrid and changes update to make this a first simulation\n"
     ]
    }
   ],
   "source": [
    "print(InfoDocString(FireGrid))"
   ]
  },
  {
   "cell_type": "code",
   "execution_count": 12,
   "metadata": {
    "collapsed": false,
    "scrolled": false
   },
   "outputs": [
    {
     "name": "stdout",
     "output_type": "stream",
     "text": [
      "def Update(self):\n",
      "Update rules for a simple fire simulation\n"
     ]
    }
   ],
   "source": [
    "print(InfoDocString(FireGrid.Update))"
   ]
  },
  {
   "cell_type": "markdown",
   "metadata": {},
   "source": [
    "<h2>Test a 3 x 3 Behavior</h2>\n",
    "<p>Below, we test a 3 X 3 grid.  The initial state of each cell is random.  We can check the behavior by visuallt inspecting the grid before an after updates.</p>"
   ]
  },
  {
   "cell_type": "code",
   "execution_count": 20,
   "metadata": {
    "collapsed": false,
    "scrolled": false
   },
   "outputs": [
    {
     "name": "stdout",
     "output_type": "stream",
     "text": [
      "The tree grid is:\n",
      "[[False  True False]\n",
      " [ True  True  True]\n",
      " [ True  True False]]\n",
      "The Burrning grid is\n",
      "[[False  True False]\n",
      " [False  True  True]\n",
      " [False False False]]\n"
     ]
    },
    {
     "data": {
      "image/png": "[encoded data removed]",
      "text/plain": [
       "<matplotlib.figure.Figure at 0x7f707c5e09b0>"
      ]
     },
     "execution_count": 20,
     "metadata": {},
     "output_type": "execute_result"
    }
   ],
   "source": [
    "rows = 3\n",
    "columns = 3\n",
    "MyGrid=FireGrid((rows,columns),MyDtype)\n",
    "init(MyGrid,rows,columns)\n",
    "MyAxes.imshow(MyGrid['Value'],interpolation='nearest')\n",
    "print('The tree grid is:')\n",
    "print(MyGrid['Tree'])\n",
    "print('The Burrning grid is')\n",
    "print(MyGrid['Burning'])\n",
    "MyFigure"
   ]
  },
  {
   "cell_type": "code",
   "execution_count": 21,
   "metadata": {
    "collapsed": false,
    "scrolled": true
   },
   "outputs": [
    {
     "data": {
      "image/png": "[encoded data removed]",
      "text/plain": [
       "<matplotlib.figure.Figure at 0x7f707c5e09b0>"
      ]
     },
     "execution_count": 21,
     "metadata": {},
     "output_type": "execute_result"
    }
   ],
   "source": [
    "MyGrid.Update()\n",
    "MyAxes.imshow(MyGrid['Value'],interpolation='nearest')\n",
    "MyFigure"
   ]
  },
  {
   "cell_type": "code",
   "execution_count": 22,
   "metadata": {
    "collapsed": false,
    "scrolled": true
   },
   "outputs": [
    {
     "data": {
      "image/png": "[encoded data removed]",
      "text/plain": [
       "<matplotlib.figure.Figure at 0x7f707c5e09b0>"
      ]
     },
     "execution_count": 22,
     "metadata": {},
     "output_type": "execute_result"
    }
   ],
   "source": [
    "MyGrid.Update()\n",
    "MyAxes.imshow(MyGrid['Value'],interpolation='nearest')\n",
    "MyFigure"
   ]
  },
  {
   "cell_type": "code",
   "execution_count": 23,
   "metadata": {
    "collapsed": false,
    "scrolled": true
   },
   "outputs": [
    {
     "data": {
      "image/png": "[encoded data removed]",
      "text/plain": [
       "<matplotlib.figure.Figure at 0x7f707c5e09b0>"
      ]
     },
     "execution_count": 23,
     "metadata": {},
     "output_type": "execute_result"
    }
   ],
   "source": [
    "MyGrid.Update()\n",
    "MyAxes.imshow(MyGrid['Value'],interpolation='nearest')\n",
    "MyFigure"
   ]
  },
  {
   "cell_type": "markdown",
   "metadata": {},
   "source": [
    "<h2>Small Grid Animation Test</h2>\n",
    "<p>In the cells below, we setup the simulation and run a small fire simulation.</p>"
   ]
  },
  {
   "cell_type": "code",
   "execution_count": 49,
   "metadata": {
    "collapsed": false,
    "scrolled": true
   },
   "outputs": [],
   "source": [
    "def uf():\n",
    "    MyGrid.Update()\n",
    "    MyAxes.imshow(MyGrid['Value'],interpolation='nearest')\n",
    "    #MyAxes.imshow(MyGrid['Value'])\n",
    "    MyFigure"
   ]
  },
  {
   "cell_type": "code",
   "execution_count": 50,
   "metadata": {
    "collapsed": true,
    "scrolled": true
   },
   "outputs": [],
   "source": [
    "def af(n):\n",
    "    uf()"
   ]
  },
  {
   "cell_type": "code",
   "execution_count": 62,
   "metadata": {
    "collapsed": true,
    "scrolled": false
   },
   "outputs": [],
   "source": [
    "def init(grid, rows, columns, probtree, probburning):\n",
    "    for y in range(rows):\n",
    "        for x in range(columns):\n",
    "            grid['ProbImmune'][y][x]  = random() * 4\n",
    "            if random() < probtree:\n",
    "                MyGrid['Tree'][y][x]    = True\n",
    "                MyGrid['Burning'][y][x] = random() < probburning\n",
    "            else:\n",
    "                MyGrid['Tree'][y][x]    = False\n",
    "                MyGrid['Burning'][y][x] = False\n",
    "    grid.SetValue()\n",
    "    grid.SetBoundary()"
   ]
  },
  {
   "cell_type": "code",
   "execution_count": 73,
   "metadata": {
    "collapsed": false,
    "scrolled": true
   },
   "outputs": [
    {
     "data": {
      "text/plain": [
       "<matplotlib.image.AxesImage at 0x7f7038af7ba8>"
      ]
     },
     "execution_count": 73,
     "metadata": {},
     "output_type": "execute_result"
    },
    {
     "data": {
      "image/png": "[encoded data removed]",
      "text/plain": [
       "<matplotlib.figure.Figure at 0x7f7038af7b70>"
      ]
     },
     "metadata": {},
     "output_type": "display_data"
    }
   ],
   "source": [
    "rows = 25\n",
    "columns = 50\n",
    "MyGrid=FireGrid((rows,columns),MyDtype)  #initilized with whatever random memory was at the location.\n",
    "init(MyGrid,rows,columns,probtree=0.75, probburning=0.01)\n",
    "MyFigure, MyAxes = plt.subplots()\n",
    "MyAxes.imshow(MyGrid['Value'],interpolation='nearest')"
   ]
  },
  {
   "cell_type": "code",
   "execution_count": 74,
   "metadata": {
    "collapsed": false,
    "scrolled": false
   },
   "outputs": [
    {
     "name": "stdout",
     "output_type": "stream",
     "text": [
      "The animation will be 1.2 seconds long.\n"
     ]
    }
   ],
   "source": [
    "AnimationFrames = 25  #total number of frames in animation.\n",
    "DelayBetweenFrames = 50 #in msec (20 gives 50 fps) (33.3 gives 30 fps)\n",
    "AnimationTime = AnimationFrames * DelayBetweenFrames/1000\n",
    "print (\"The animation will be {:.1f} seconds long.\".format(AnimationTime))"
   ]
  },
  {
   "cell_type": "code",
   "execution_count": 75,
   "metadata": {
    "collapsed": false,
    "scrolled": true
   },
   "outputs": [],
   "source": [
    "MyAnimation = animation.FuncAnimation(MyFigure, af,\n",
    "                               frames=AnimationFrames, interval=DelayBetweenFrames, blit=False)\n",
    "MyAnimation.save('FireSim_Small_Grid.mp4')"
   ]
  },
  {
   "cell_type": "markdown",
   "metadata": {},
   "source": [
    "<video width=\"400\" height=\"222\" controls=\"controls\">\n",
    "  <source src=\"/home/wholmes3/CellularAutomaton/FireSim_Small_Grid.mp4\" type=\"video/mp4\" />\n",
    "</video>"
   ]
  },
  {
   "cell_type": "code",
   "execution_count": 79,
   "metadata": {
    "collapsed": false
   },
   "outputs": [
    {
     "data": {
      "text/html": [
       "\n",
       "<video width=\"320\" height=\"240\" controls>\n",
       "  <source src=\"/home/wholmes3/CellularAutomaton/FireSim_Small_Grid.mp4\" type=\"video/mp4\">\n",
       "</video>\n"
      ],
      "text/plain": [
       "<IPython.core.display.HTML object>"
      ]
     },
     "execution_count": 79,
     "metadata": {},
     "output_type": "execute_result"
    }
   ],
   "source": [
    "HTML(\"\"\"\n",
    "<video width=\"320\" height=\"240\" controls>\n",
    "  <source src=\"/home/wholmes3/CellularAutomaton/FireSim_Small_Grid.mp4\" type=\"video/mp4\">\n",
    "</video>\n",
    "\"\"\")"
   ]
  },
  {
   "cell_type": "markdown",
   "metadata": {},
   "source": [
    "<h2>Large Grid Simulations</h2>\n",
    "<h3>Simulation 01</h3>"
   ]
  },
  {
   "cell_type": "code",
   "execution_count": null,
   "metadata": {
    "collapsed": false,
    "scrolled": true
   },
   "outputs": [],
   "source": [
    "rows = 100\n",
    "columns = 200\n",
    "MyGrid=FireGrid((rows,columns),MyDtype)  #initilized with whatever random memory was at the location.\n",
    "init(MyGrid,rows,columns)\n",
    "MyFigure, MyAxes = plt.subplots()\n",
    "MyAxes.imshow(MyGrid['Value'],interpolation='nearest')"
   ]
  },
  {
   "cell_type": "code",
   "execution_count": null,
   "metadata": {
    "collapsed": false,
    "scrolled": false
   },
   "outputs": [],
   "source": [
    "AnimationFrames = 200  #total number of frames in animation.\n",
    "DelayBetweenFrames = 50 #in msec (20 gives 50 fps) (33.3 gives 30 fps)\n",
    "AnimationTime = AnimationFrames * DelayBetweenFrames/1000\n",
    "print (\"The animation will be {:.1f} seconds long.\".format(AnimationTime))"
   ]
  },
  {
   "cell_type": "code",
   "execution_count": null,
   "metadata": {
    "collapsed": false,
    "scrolled": true
   },
   "outputs": [],
   "source": [
    "MyAnimation = animation.FuncAnimation(MyFigure, af,\n",
    "                               frames=AnimationFrames, interval=DelayBetweenFrames, blit=False)\n",
    "MyAnimation"
   ]
  },
  {
   "cell_type": "markdown",
   "metadata": {},
   "source": [
    "<h3>Simulation 02</h3>"
   ]
  },
  {
   "cell_type": "code",
   "execution_count": null,
   "metadata": {
    "collapsed": true,
    "scrolled": false
   },
   "outputs": [],
   "source": [
    "def init(grid, rows, columns):\n",
    "    for y in range(rows):\n",
    "        for x in range(columns):\n",
    "            grid['ProbImmune'][y][x]  = random() * 4\n",
    "            if random() < 0.75:\n",
    "                MyGrid['Tree'][y][x]    = True\n",
    "                MyGrid['Burning'][y][x] = False\n",
    "            else:\n",
    "                MyGrid['Tree'][y][x]    = False\n",
    "                MyGrid['Burning'][y][x] = False\n",
    "    grid.SetValue()\n",
    "    grid.SetBoundary()"
   ]
  },
  {
   "cell_type": "code",
   "execution_count": null,
   "metadata": {
    "collapsed": false,
    "scrolled": true
   },
   "outputs": [],
   "source": [
    "rows = 200\n",
    "columns = 400\n",
    "MyGrid=FireGrid((rows,columns),MyDtype)  #initilized with whatever random memory was at the location.\n",
    "init(MyGrid,rows,columns)\n",
    "MyGrid['Burning'][100][98] = True\n",
    "MyGrid['Burning'][100][99]  = True\n",
    "MyGrid['Burning'][100][100] = True\n",
    "MyGrid['Burning'][100][101] = True\n",
    "MyGrid['Burning'][100][102] = True\n",
    "\n",
    "MyFigure, MyAxes = plt.subplots()\n",
    "MyAxes.imshow(MyGrid['Value'],interpolation='nearest')"
   ]
  },
  {
   "cell_type": "code",
   "execution_count": null,
   "metadata": {
    "collapsed": false,
    "scrolled": false
   },
   "outputs": [],
   "source": [
    "AnimationFrames = 300  #total number of frames in animation.\n",
    "DelayBetweenFrames = 50 #in msec (20 gives 50 fps) (33.3 gives 30 fps)\n",
    "AnimationTime = AnimationFrames * DelayBetweenFrames/1000\n",
    "print (\"The animation will be {:.1f} seconds long.\".format(AnimationTime))"
   ]
  },
  {
   "cell_type": "code",
   "execution_count": null,
   "metadata": {
    "collapsed": false,
    "scrolled": false
   },
   "outputs": [],
   "source": [
    "MyAnimation = animation.FuncAnimation(MyFigure, af,\n",
    "                               frames=AnimationFrames, interval=DelayBetweenFrames, blit=False)\n",
    "MyAnimation"
   ]
  },
  {
   "cell_type": "markdown",
   "metadata": {},
   "source": [
    "<h3>Simulation 04</h3>"
   ]
  },
  {
   "cell_type": "code",
   "execution_count": null,
   "metadata": {
    "collapsed": true,
    "scrolled": false
   },
   "outputs": [],
   "source": [
    "def init(grid, rows, columns):\n",
    "    for y in range(rows):\n",
    "        for x in range(columns):\n",
    "            grid['ProbImmune'][y][x]  = uniform(.2, .75) * 4\n",
    "            if random() < 0.9:\n",
    "                MyGrid['Tree'][y][x]    = True\n",
    "                MyGrid['Burning'][y][x] = False\n",
    "            else:\n",
    "                MyGrid['Tree'][y][x]    = False\n",
    "                MyGrid['Burning'][y][x] = False\n",
    "    grid.SetValue()\n",
    "    grid.SetBoundary()"
   ]
  },
  {
   "cell_type": "code",
   "execution_count": null,
   "metadata": {
    "collapsed": false,
    "scrolled": true
   },
   "outputs": [],
   "source": [
    "rows = 200\n",
    "columns = 400\n",
    "MyGrid=FireGrid((rows,columns),MyDtype)  #initilized with whatever random memory was at the location.\n",
    "init(MyGrid,rows,columns)\n",
    "MyGrid['Burning'][100][98] = True\n",
    "MyGrid['Burning'][100][99]  = True\n",
    "MyGrid['Burning'][100][100] = True\n",
    "MyGrid['Burning'][100][101] = True\n",
    "MyGrid['Burning'][100][102] = True\n",
    "\n",
    "MyFigure, MyAxes = plt.subplots()\n",
    "MyAxes.imshow(MyGrid['Value'],interpolation='nearest')"
   ]
  },
  {
   "cell_type": "code",
   "execution_count": null,
   "metadata": {
    "collapsed": false,
    "scrolled": false
   },
   "outputs": [],
   "source": [
    "AnimationFrames = 300  #total number of frames in animation.\n",
    "DelayBetweenFrames = 50 #in msec (20 gives 50 fps) (33.3 gives 30 fps)\n",
    "AnimationTime = AnimationFrames * DelayBetweenFrames/1000\n",
    "print (\"The animation will be {:.1f} seconds long.\".format(AnimationTime))"
   ]
  },
  {
   "cell_type": "code",
   "execution_count": null,
   "metadata": {
    "collapsed": false,
    "scrolled": true
   },
   "outputs": [],
   "source": [
    "MyAnimation = animation.FuncAnimation(MyFigure, af,\n",
    "                               frames=AnimationFrames, interval=DelayBetweenFrames, blit=False)\n",
    "MyAnimation"
   ]
  },
  {
   "cell_type": "markdown",
   "metadata": {},
   "source": [
    "<h3>Simulation 05</h3>"
   ]
  },
  {
   "cell_type": "code",
   "execution_count": null,
   "metadata": {
    "collapsed": false,
    "scrolled": true
   },
   "outputs": [],
   "source": [
    "from random import uniform"
   ]
  },
  {
   "cell_type": "code",
   "execution_count": null,
   "metadata": {
    "collapsed": true,
    "scrolled": false
   },
   "outputs": [],
   "source": [
    "def init(grid, rows, columns):\n",
    "    for y in range(rows):\n",
    "        for x in range(columns):\n",
    "            grid['ProbImmune'][y][x]  = uniform(.2, .75) * 4\n",
    "            if random() < 0.8:\n",
    "                MyGrid['Tree'][y][x]    = True\n",
    "                MyGrid['Burning'][y][x] = False\n",
    "            else:\n",
    "                MyGrid['Tree'][y][x]    = False\n",
    "                MyGrid['Burning'][y][x] = False\n",
    "    grid.SetValue()\n",
    "    grid.SetBoundary()"
   ]
  },
  {
   "cell_type": "code",
   "execution_count": null,
   "metadata": {
    "collapsed": false,
    "scrolled": true
   },
   "outputs": [],
   "source": [
    "rows = 200\n",
    "columns = 400\n",
    "MyGrid=FireGrid((rows,columns),MyDtype)  #initilized with whatever random memory was at the location.\n",
    "init(MyGrid,rows,columns)\n",
    "MyGrid['Burning'][100][98] = True\n",
    "MyGrid['Burning'][100][99]  = True\n",
    "MyGrid['Burning'][100][100] = True\n",
    "MyGrid['Burning'][100][101] = True\n",
    "MyGrid['Burning'][100][102] = True\n",
    "\n",
    "MyFigure, MyAxes = plt.subplots()\n",
    "MyAxes.imshow(MyGrid['Value'],interpolation='nearest')"
   ]
  },
  {
   "cell_type": "code",
   "execution_count": null,
   "metadata": {
    "collapsed": false,
    "scrolled": false
   },
   "outputs": [],
   "source": [
    "AnimationFrames = 500  #total number of frames in animation.\n",
    "DelayBetweenFrames = 50 #in msec (20 gives 50 fps) (33.3 gives 30 fps)\n",
    "AnimationTime = AnimationFrames * DelayBetweenFrames/1000\n",
    "print (\"The animation will be {:.1f} seconds long.\".format(AnimationTime))"
   ]
  },
  {
   "cell_type": "code",
   "execution_count": null,
   "metadata": {
    "collapsed": false,
    "scrolled": true
   },
   "outputs": [],
   "source": [
    "MyAnimation = animation.FuncAnimation(MyFigure, af,\n",
    "                               frames=AnimationFrames, interval=DelayBetweenFrames, blit=False)\n",
    "MyAnimation"
   ]
  },
  {
   "cell_type": "markdown",
   "metadata": {},
   "source": [
    "<h3>Simulation 05</h3>"
   ]
  },
  {
   "cell_type": "code",
   "execution_count": null,
   "metadata": {
    "collapsed": false,
    "scrolled": true
   },
   "outputs": [],
   "source": [
    "from random import uniform"
   ]
  },
  {
   "cell_type": "code",
   "execution_count": null,
   "metadata": {
    "collapsed": true,
    "scrolled": false
   },
   "outputs": [],
   "source": [
    "def init(grid, rows, columns):\n",
    "    for y in range(rows):\n",
    "        for x in range(columns):\n",
    "            grid['ProbImmune'][y][x]  = uniform(.2, .75) * 4\n",
    "            if random() < 0.85:\n",
    "                MyGrid['Tree'][y][x]    = True\n",
    "                MyGrid['Burning'][y][x] = False\n",
    "            else:\n",
    "                MyGrid['Tree'][y][x]    = False\n",
    "                MyGrid['Burning'][y][x] = False\n",
    "    grid.SetValue()\n",
    "    grid.SetBoundary()"
   ]
  },
  {
   "cell_type": "code",
   "execution_count": null,
   "metadata": {
    "collapsed": false,
    "scrolled": true
   },
   "outputs": [],
   "source": [
    "rows = 200\n",
    "columns = 400\n",
    "MyGrid=FireGrid((rows,columns),MyDtype)  #initilized with whatever random memory was at the location.\n",
    "init(MyGrid,rows,columns)\n",
    "MyGrid['Burning'][100][98] = True\n",
    "MyGrid['Burning'][100][99]  = True\n",
    "MyGrid['Burning'][100][100] = True\n",
    "MyGrid['Burning'][100][101] = True\n",
    "MyGrid['Burning'][100][102] = True\n",
    "\n",
    "MyFigure, MyAxes = plt.subplots()\n",
    "MyAxes.imshow(MyGrid['Value'],interpolation='nearest')"
   ]
  },
  {
   "cell_type": "code",
   "execution_count": null,
   "metadata": {
    "collapsed": false,
    "scrolled": false
   },
   "outputs": [],
   "source": [
    "AnimationFrames = 500  #total number of frames in animation.\n",
    "DelayBetweenFrames = 50 #in msec (20 gives 50 fps) (33.3 gives 30 fps)\n",
    "AnimationTime = AnimationFrames * DelayBetweenFrames/1000\n",
    "print (\"The animation will be {:.1f} seconds long.\".format(AnimationTime))"
   ]
  },
  {
   "cell_type": "code",
   "execution_count": null,
   "metadata": {
    "collapsed": false,
    "scrolled": true
   },
   "outputs": [],
   "source": [
    "MyAnimation = animation.FuncAnimation(MyFigure, af,\n",
    "                               frames=AnimationFrames, interval=DelayBetweenFrames, blit=False)\n",
    "MyAnimation"
   ]
  },
  {
   "cell_type": "markdown",
   "metadata": {},
   "source": [
    "<h3>Simulation 05</h3>"
   ]
  },
  {
   "cell_type": "code",
   "execution_count": null,
   "metadata": {
    "collapsed": true,
    "scrolled": false
   },
   "outputs": [],
   "source": [
    "def init(grid, rows, columns):\n",
    "    for y in range(rows):\n",
    "        for x in range(columns):\n",
    "            grid['ProbImmune'][y][x]  = uniform(.2, .75) * 4\n",
    "            if random() < 0.77:\n",
    "                MyGrid['Tree'][y][x]    = True\n",
    "                MyGrid['Burning'][y][x] = False\n",
    "            else:\n",
    "                MyGrid['Tree'][y][x]    = False\n",
    "                MyGrid['Burning'][y][x] = False\n",
    "    grid.SetValue()\n",
    "    grid.SetBoundary()"
   ]
  },
  {
   "cell_type": "code",
   "execution_count": null,
   "metadata": {
    "collapsed": false,
    "scrolled": true
   },
   "outputs": [],
   "source": [
    "rows = 200\n",
    "columns = 400\n",
    "MyGrid=FireGrid((rows,columns),MyDtype)  #initilized with whatever random memory was at the location.\n",
    "init(MyGrid,rows,columns)\n",
    "MyGrid['Burning'][:][0]  = True\n",
    "\n",
    "MyFigure, MyAxes = plt.subplots()\n",
    "MyAxes.imshow(MyGrid['Value'],interpolation='nearest')"
   ]
  },
  {
   "cell_type": "code",
   "execution_count": null,
   "metadata": {
    "collapsed": false,
    "scrolled": false
   },
   "outputs": [],
   "source": [
    "AnimationFrames = 500  #total number of frames in animation.\n",
    "DelayBetweenFrames = 50 #in msec (20 gives 50 fps) (33.3 gives 30 fps)\n",
    "AnimationTime = AnimationFrames * DelayBetweenFrames/1000\n",
    "print (\"The animation will be {:.1f} seconds long.\".format(AnimationTime))"
   ]
  },
  {
   "cell_type": "code",
   "execution_count": null,
   "metadata": {
    "collapsed": false,
    "scrolled": false
   },
   "outputs": [],
   "source": [
    "MyAnimation = animation.FuncAnimation(MyFigure, af,\n",
    "                               frames=AnimationFrames, interval=DelayBetweenFrames, blit=False)\n",
    "MyAnimation"
   ]
  },
  {
   "cell_type": "markdown",
   "metadata": {},
   "source": [
    "<h3>Simulation 05</h3>"
   ]
  },
  {
   "cell_type": "code",
   "execution_count": null,
   "metadata": {
    "collapsed": true,
    "scrolled": false
   },
   "outputs": [],
   "source": [
    "def init(grid, rows, columns):\n",
    "    for y in range(rows):\n",
    "        for x in range(columns):\n",
    "            grid['ProbImmune'][y][x]  = uniform(.2, .75) * 4\n",
    "            if random() < 0.83:\n",
    "                MyGrid['Tree'][y][x]    = True\n",
    "                MyGrid['Burning'][y][x] = False\n",
    "            else:\n",
    "                MyGrid['Tree'][y][x]    = False\n",
    "                MyGrid['Burning'][y][x] = False\n",
    "    grid.SetValue()\n",
    "    grid.SetBoundary()"
   ]
  },
  {
   "cell_type": "code",
   "execution_count": null,
   "metadata": {
    "collapsed": false,
    "scrolled": true
   },
   "outputs": [],
   "source": [
    "rows = 200\n",
    "columns = 400\n",
    "MyGrid=FireGrid((rows,columns),MyDtype)  #initilized with whatever random memory was at the location.\n",
    "init(MyGrid,rows,columns)\n",
    "MyGrid['Burning'][1][:]  = True\n",
    "\n",
    "MyFigure, MyAxes = plt.subplots()\n",
    "MyAxes.imshow(MyGrid['Value'],interpolation='nearest')"
   ]
  },
  {
   "cell_type": "code",
   "execution_count": null,
   "metadata": {
    "collapsed": false,
    "scrolled": false
   },
   "outputs": [],
   "source": [
    "AnimationFrames = 500  #total number of frames in animation.\n",
    "DelayBetweenFrames = 50 #in msec (20 gives 50 fps) (33.3 gives 30 fps)\n",
    "AnimationTime = AnimationFrames * DelayBetweenFrames/1000\n",
    "print (\"The animation will be {:.1f} seconds long.\".format(AnimationTime))"
   ]
  },
  {
   "cell_type": "code",
   "execution_count": null,
   "metadata": {
    "collapsed": false,
    "scrolled": false
   },
   "outputs": [],
   "source": [
    "MyAnimationB = animation.FuncAnimation(MyFigure, af,\n",
    "                               frames=AnimationFrames, interval=DelayBetweenFrames, blit=False)\n",
    "MyAnimationB"
   ]
  },
  {
   "cell_type": "markdown",
   "metadata": {},
   "source": [
    "<h3>Simulation 05</h3>"
   ]
  },
  {
   "cell_type": "code",
   "execution_count": null,
   "metadata": {
    "collapsed": true,
    "scrolled": false
   },
   "outputs": [],
   "source": [
    "def init(grid, rows, columns):\n",
    "    for y in range(rows):\n",
    "        for x in range(columns):\n",
    "            grid['ProbImmune'][y][x]  = uniform(.2, .75) * 4\n",
    "            if random() < 0.80:\n",
    "                MyGrid['Tree'][y][x]    = True\n",
    "                MyGrid['Burning'][y][x] = False\n",
    "            else:\n",
    "                MyGrid['Tree'][y][x]    = False\n",
    "                MyGrid['Burning'][y][x] = False\n",
    "    grid.SetValue()\n",
    "    grid.SetBoundary()"
   ]
  },
  {
   "cell_type": "code",
   "execution_count": null,
   "metadata": {
    "collapsed": false,
    "scrolled": true
   },
   "outputs": [],
   "source": [
    "rows = 200\n",
    "columns = 400\n",
    "MyGrid=FireGrid((rows,columns),MyDtype)  #initilized with whatever random memory was at the location.\n",
    "init(MyGrid,rows,columns)\n",
    "MyGrid['Burning'][1][:]  = True\n",
    "\n",
    "MyFigure, MyAxes = plt.subplots()\n",
    "MyAxes.imshow(MyGrid['Value'],interpolation='nearest')"
   ]
  },
  {
   "cell_type": "code",
   "execution_count": null,
   "metadata": {
    "collapsed": false,
    "scrolled": false
   },
   "outputs": [],
   "source": [
    "AnimationFrames = 300  #total number of frames in animation.\n",
    "DelayBetweenFrames = 50 #in msec (20 gives 50 fps) (33.3 gives 30 fps)\n",
    "AnimationTime = AnimationFrames * DelayBetweenFrames/1000\n",
    "print (\"The animation will be {:.1f} seconds long.\".format(AnimationTime))"
   ]
  },
  {
   "cell_type": "code",
   "execution_count": null,
   "metadata": {
    "collapsed": false,
    "scrolled": true
   },
   "outputs": [],
   "source": [
    "MyAnimationC = animation.FuncAnimation(MyFigure, af,\n",
    "                               frames=AnimationFrames, interval=DelayBetweenFrames, blit=False)\n",
    "MyAnimationC"
   ]
  },
  {
   "cell_type": "code",
   "execution_count": null,
   "metadata": {
    "collapsed": false
   },
   "outputs": [],
   "source": [
    "myWriter = animation.FFMpegWriter(fps = 30, extra_args=['-vcodec', 'libx264'])\n",
    "MyAnimationC.save('.\\AnimationC', writer = myWriter)"
   ]
  },
  {
   "cell_type": "code",
   "execution_count": null,
   "metadata": {
    "collapsed": true
   },
   "outputs": [],
   "source": []
  }
 ],
 "metadata": {
  "anaconda-cloud": {},
  "kernelspec": {
   "display_name": "Python [conda root]",
   "language": "python",
   "name": "conda-root-py"
  },
  "language_info": {
   "codemirror_mode": {
    "name": "ipython",
    "version": 3
   },
   "file_extension": ".py",
   "mimetype": "text/x-python",
   "name": "python",
   "nbconvert_exporter": "python",
   "pygments_lexer": "ipython3",
   "version": "3.5.2"
  }
 },
 "nbformat": 4,
 "nbformat_minor": 0
}
