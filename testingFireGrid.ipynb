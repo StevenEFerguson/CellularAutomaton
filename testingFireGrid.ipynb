{
 "cells": [
  {
   "cell_type": "markdown",
   "metadata": {},
   "source": [
    "<center><h1>Testing and Documentation Notebook for Cellular Automaton Using Inheritance from Numpy NDArray</h1></center>\n",
    "<p>This document is for testing of a cellular automaton class which inherits much of its functionality from the Numpy module.  The class enables use of the array opperations (implemented in C) which should make the execution speed better.</p>\n",
    "<h2>Initialization</h2>"
   ]
  },
  {
   "cell_type": "code",
   "execution_count": 1,
   "metadata": {
    "collapsed": false,
    "scrolled": true
   },
   "outputs": [],
   "source": [
    "from FireSimulation import *\n",
    "FireGrid.IncludeDiagonalNeighbors = False\n",
    "\n",
    "from IPython.display import display\n",
    "from IPython.display import HTML\n",
    "import inspect\n",
    "from random import uniform\n",
    "\n",
    "from math import *\n",
    "%matplotlib inline\n",
    "import matplotlib\n",
    "from matplotlib import pyplot as plt\n",
    "from matplotlib import animation\n",
    "matplotlib.rc('animation', html='html5')\n",
    "goldenratio=1/2*(1+sqrt(5))\n",
    "fsx=7\n",
    "fsy=fsx/goldenratio\n",
    "\n",
    "def InfoDocString(function):\n",
    "    \"\"\"Function to return function definition and document string.\"\"\"\n",
    "    \n",
    "    code = inspect.getsource(function)\n",
    "    docstring = inspect.getdoc(function)\n",
    "    return code[0:code.find(':')+1].lstrip() +'\\n' + docstring"
   ]
  },
  {
   "cell_type": "markdown",
   "metadata": {},
   "source": [
    "<h3>Functions to help with testing</h3>"
   ]
  },
  {
   "cell_type": "code",
   "execution_count": 2,
   "metadata": {
    "collapsed": false,
    "scrolled": false
   },
   "outputs": [],
   "source": [
    "MyDtype = numpy.dtype([('Tree', bool), ('Burning', bool), ('ProbImmune', 'f'), ('Value', 'f', (3,))])\n",
    "\n",
    "def init(grid, rows, columns):\n",
    "    for y in range(rows):\n",
    "        for x in range(columns):\n",
    "            grid['ProbImmune'][y][x]  = random() * 4\n",
    "            if random() < 0.75:\n",
    "                MyGrid['Tree'][y][x]    = True\n",
    "                MyGrid['Burning'][y][x] = random() < 0.1\n",
    "            else:\n",
    "                MyGrid['Tree'][y][x]    = False\n",
    "                MyGrid['Burning'][y][x] = False\n",
    "    grid.SetValue()\n",
    "    grid.SetBoundary()"
   ]
  },
  {
   "cell_type": "code",
   "execution_count": null,
   "metadata": {
    "collapsed": true
   },
   "outputs": [],
   "source": [
    "def FireGridCopy(OldGrid)\n",
    "    New = "
   ]
  },
  {
   "cell_type": "code",
   "execution_count": 3,
   "metadata": {
    "collapsed": false,
    "scrolled": false
   },
   "outputs": [
    {
     "data": {
      "image/png": "[encoded data removed]",
      "text/plain": [
       "<matplotlib.figure.Figure at 0xf002bb14a8>"
      ]
     },
     "metadata": {},
     "output_type": "display_data"
    }
   ],
   "source": [
    "MyFigure, MyAxes = plt.subplots(1,1,figsize=(fsx,fsy))"
   ]
  },
  {
   "cell_type": "markdown",
   "metadata": {},
   "source": [
    "<h2>Class Structure</h2>\n",
    "<p>The class FireGrid inherts CAGird.  The information about this class is below.</p>"
   ]
  },
  {
   "cell_type": "code",
   "execution_count": 4,
   "metadata": {
    "collapsed": false,
    "scrolled": false
   },
   "outputs": [
    {
     "name": "stdout",
     "output_type": "stream",
     "text": [
      "class FireGrid(CAGrid):\n",
      "This class derives from CAGrid and changes update to make this a first simulation\n"
     ]
    }
   ],
   "source": [
    "print(InfoDocString(FireGrid))"
   ]
  },
  {
   "cell_type": "code",
   "execution_count": 5,
   "metadata": {
    "collapsed": false,
    "scrolled": false
   },
   "outputs": [
    {
     "name": "stdout",
     "output_type": "stream",
     "text": [
      "def Update(self):\n",
      "Update rules for a simple fire simulation\n"
     ]
    }
   ],
   "source": [
    "print(InfoDocString(FireGrid.Update))"
   ]
  },
  {
   "cell_type": "markdown",
   "metadata": {},
   "source": [
    "<h2>Test a 3 x 3 Behavior</h2>\n",
    "<p>Below, we test a 3 X 3 grid.  The initial state of each cell is random.  We can check the behavior by visuallt inspecting the grid before an after updates.</p>"
   ]
  },
  {
   "cell_type": "code",
   "execution_count": 7,
   "metadata": {
    "collapsed": false,
    "scrolled": false
   },
   "outputs": [
    {
     "name": "stdout",
     "output_type": "stream",
     "text": [
      "The tree grid is:\n",
      "[[ True  True  True]\n",
      " [ True False  True]\n",
      " [ True  True  True]]\n",
      "The Burrning grid is\n",
      "[[False False  True]\n",
      " [False False  True]\n",
      " [False False False]]\n"
     ]
    },
    {
     "data": {
      "image/png": "[encoded data removed]",
      "text/plain": [
       "<matplotlib.figure.Figure at 0xf002bb14a8>"
      ]
     },
     "execution_count": 7,
     "metadata": {},
     "output_type": "execute_result"
    }
   ],
   "source": [
    "rows = 3\n",
    "columns = 3\n",
    "MyGrid=FireGrid((rows,columns),MyDtype)\n",
    "init(MyGrid,rows,columns)\n",
    "MyAxes.imshow(MyGrid['Value'],interpolation='nearest')\n",
    "print('The tree grid is:')\n",
    "print(MyGrid['Tree'])\n",
    "print('The Burrning grid is')\n",
    "print(MyGrid['Burning'])\n",
    "MyFigure"
   ]
  },
  {
   "cell_type": "code",
   "execution_count": 8,
   "metadata": {
    "collapsed": false,
    "scrolled": true
   },
   "outputs": [
    {
     "data": {
      "image/png": "[encoded data removed]",
      "text/plain": [
       "<matplotlib.figure.Figure at 0xf002bb14a8>"
      ]
     },
     "execution_count": 8,
     "metadata": {},
     "output_type": "execute_result"
    }
   ],
   "source": [
    "MyGrid.Update()\n",
    "MyAxes.imshow(MyGrid['Value'],interpolation='nearest')\n",
    "MyFigure"
   ]
  },
  {
   "cell_type": "code",
   "execution_count": 9,
   "metadata": {
    "collapsed": false,
    "scrolled": true
   },
   "outputs": [
    {
     "data": {
      "image/png": "[encoded data removed]",
      "text/plain": [
       "<matplotlib.figure.Figure at 0xf002bb14a8>"
      ]
     },
     "execution_count": 9,
     "metadata": {},
     "output_type": "execute_result"
    }
   ],
   "source": [
    "MyGrid.Update()\n",
    "MyAxes.imshow(MyGrid['Value'],interpolation='nearest')\n",
    "MyFigure"
   ]
  },
  {
   "cell_type": "code",
   "execution_count": 10,
   "metadata": {
    "collapsed": false,
    "scrolled": true
   },
   "outputs": [
    {
     "data": {
      "image/png": "[encoded data removed]",
      "text/plain": [
       "<matplotlib.figure.Figure at 0xf002bb14a8>"
      ]
     },
     "execution_count": 10,
     "metadata": {},
     "output_type": "execute_result"
    }
   ],
   "source": [
    "MyGrid.Update()\n",
    "MyAxes.imshow(MyGrid['Value'],interpolation='nearest')\n",
    "MyFigure"
   ]
  },
  {
   "cell_type": "markdown",
   "metadata": {},
   "source": [
    "<h2>Small Grid Animation Test</h2>\n",
    "<p>In the cells below, we setup the simulation and run a small fire simulation.</p>"
   ]
  },
  {
   "cell_type": "code",
   "execution_count": 28,
   "metadata": {
    "collapsed": false,
    "scrolled": true
   },
   "outputs": [],
   "source": [
    "def uf():\n",
    "    MyGrid.Update()\n",
    "    MyAxes.imshow(MyGrid['Value'],interpolation='nearest')\n",
    "    #MyAxes.imshow(MyGrid['Value'])\n",
    "    MyFigure"
   ]
  },
  {
   "cell_type": "code",
   "execution_count": 29,
   "metadata": {
    "collapsed": true,
    "scrolled": true
   },
   "outputs": [],
   "source": [
    "def af(n):\n",
    "    uf()"
   ]
  },
  {
   "cell_type": "code",
   "execution_count": 30,
   "metadata": {
    "collapsed": true,
    "scrolled": false
   },
   "outputs": [],
   "source": [
    "def init(grid, rows, columns, probtree, probburning):\n",
    "    for y in range(rows):\n",
    "        for x in range(columns):\n",
    "            grid['ProbImmune'][y][x]  = random() * 4\n",
    "            if random() < probtree:\n",
    "                MyGrid['Tree'][y][x]    = True\n",
    "                MyGrid['Burning'][y][x] = random() < probburning\n",
    "            else:\n",
    "                MyGrid['Tree'][y][x]    = False\n",
    "                MyGrid['Burning'][y][x] = False\n",
    "    grid.SetValue()\n",
    "    grid.SetBoundary()"
   ]
  },
  {
   "cell_type": "code",
   "execution_count": 39,
   "metadata": {
    "collapsed": false,
    "scrolled": true
   },
   "outputs": [
    {
     "data": {
      "text/plain": [
       "<matplotlib.image.AxesImage at 0xf00453eb00>"
      ]
     },
     "execution_count": 39,
     "metadata": {},
     "output_type": "execute_result"
    },
    {
     "data": {
      "image/png": "[encoded data removed]",
      "text/plain": [
       "<matplotlib.figure.Figure at 0xf0055a80b8>"
      ]
     },
     "metadata": {},
     "output_type": "display_data"
    }
   ],
   "source": [
    "rows = 25\n",
    "columns = 50\n",
    "MyGrid=FireGrid((rows,columns),MyDtype)  #initilized with whatever random memory was at the location.\n",
    "init(MyGrid,rows,columns,probtree=0.75, probburning=0.01)\n",
    "MyFigure, MyAxes = plt.subplots()\n",
    "MyAxes.imshow(MyGrid['Value'],interpolation='nearest')"
   ]
  },
  {
   "cell_type": "code",
   "execution_count": 40,
   "metadata": {
    "collapsed": false,
    "scrolled": false
   },
   "outputs": [
    {
     "name": "stdout",
     "output_type": "stream",
     "text": [
      "The animation will be 1.2 seconds long.\n"
     ]
    }
   ],
   "source": [
    "AnimationFrames = 25  #total number of frames in animation.\n",
    "DelayBetweenFrames = 50 #in msec (20 gives 50 fps) (33.3 gives 30 fps)\n",
    "AnimationTime = AnimationFrames * DelayBetweenFrames/1000\n",
    "print (\"The animation will be {:.1f} seconds long.\".format(AnimationTime))"
   ]
  },
  {
   "cell_type": "code",
   "execution_count": 41,
   "metadata": {
    "collapsed": false,
    "scrolled": true
   },
   "outputs": [],
   "source": [
    "MyAnimation = animation.FuncAnimation(MyFigure, af,\n",
    "                               frames=AnimationFrames, interval=DelayBetweenFrames, blit=False)\n",
    "MyAnimation.save('FireSim_Small_Grid.mp4',extra_args=['-vcodec', 'libx264'])"
   ]
  },
  {
   "cell_type": "code",
   "execution_count": 38,
   "metadata": {
    "collapsed": false,
    "scrolled": true
   },
   "outputs": [],
   "source": [
    "MyAnimation = animation.FuncAnimation(MyFigure, af,\n",
    "                               frames=AnimationFrames, interval=DelayBetweenFrames, blit=False)\n",
    "MyAnimation.save('FireSim_Small_Grid.mp4',extra_args=['-vcodec', 'h264'])"
   ]
  },
  {
   "cell_type": "markdown",
   "metadata": {},
   "source": [
    "<video controls src=\"FireSim_Small_Grid.mp4\" />"
   ]
  },
  {
   "cell_type": "markdown",
   "metadata": {},
   "source": [
    "<h2>Large Grid Simulations</h2>\n",
    "<h3>Simulation 01</h3>"
   ]
  },
  {
   "cell_type": "code",
   "execution_count": 62,
   "metadata": {
    "collapsed": false,
    "scrolled": false
   },
   "outputs": [
    {
     "data": {
      "text/plain": [
       "<matplotlib.image.AxesImage at 0xf023cae438>"
      ]
     },
     "execution_count": 62,
     "metadata": {},
     "output_type": "execute_result"
    },
    {
     "data": {
      "image/png": "[encoded data removed]",
      "text/plain": [
       "<matplotlib.figure.Figure at 0xf023ca9438>"
      ]
     },
     "metadata": {},
     "output_type": "display_data"
    }
   ],
   "source": [
    "rows = 100\n",
    "columns = 200\n",
    "MyGrid=FireGrid((rows,columns),MyDtype)  #initilized with whatever random memory was at the location.\n",
    "init(MyGrid,rows,columns,probtree = 0.80, probburning=0.01)\n",
    "GridBig01=MyGrid.copy()\n",
    "MyFigure, MyAxes = plt.subplots()\n",
    "MyAxes.imshow(MyGrid['Value'],interpolation='nearest')"
   ]
  },
  {
   "cell_type": "code",
   "execution_count": 67,
   "metadata": {
    "collapsed": false
   },
   "outputs": [
    {
     "data": {
      "image/png": "[encoded data removed]",
      "text/plain": [
       "<matplotlib.figure.Figure at 0xf023ca9438>"
      ]
     },
     "execution_count": 67,
     "metadata": {},
     "output_type": "execute_result"
    }
   ],
   "source": [
    "MyAxes.imshow(MyGrid['Value'],interpolation='nearest')\n",
    "MyFigure"
   ]
  },
  {
   "cell_type": "code",
   "execution_count": 68,
   "metadata": {
    "collapsed": false,
    "scrolled": false
   },
   "outputs": [
    {
     "name": "stdout",
     "output_type": "stream",
     "text": [
      "The animation will be 10.0 seconds long.\n"
     ]
    }
   ],
   "source": [
    "AnimationFrames = 200  #total number of frames in animation.\n",
    "DelayBetweenFrames = 50 #in msec (20 gives 50 fps) (33.3 gives 30 fps)\n",
    "AnimationTime = AnimationFrames * DelayBetweenFrames/1000\n",
    "print (\"The animation will be {:.1f} seconds long.\".format(AnimationTime))"
   ]
  },
  {
   "cell_type": "code",
   "execution_count": 69,
   "metadata": {
    "collapsed": false,
    "scrolled": true
   },
   "outputs": [],
   "source": [
    "MyAnimation = animation.FuncAnimation(MyFigure, af,\n",
    "                               frames=AnimationFrames, interval=DelayBetweenFrames, blit=False)\n",
    "MyAnimation.save('FireSim_80_01libx264.mp4',extra_args=['-vcodec', 'libx264'])"
   ]
  },
  {
   "cell_type": "markdown",
   "metadata": {},
   "source": [
    "<video controls src=\"FireSim_80_01libx264.mp4\" />"
   ]
  },
  {
   "cell_type": "code",
   "execution_count": 72,
   "metadata": {
    "collapsed": false
   },
   "outputs": [
    {
     "data": {
      "text/plain": [
       "FireGrid([[(True, False, 2.3343281745910645, [0.0, 0.75, 0.0]),\n",
       "        (True, False, 0.9611915349960327, [0.0, 0.75, 0.0]),\n",
       "        (True, False, 0.09718558192253113, [0.0, 0.75, 0.0]), ...,\n",
       "        (True, False, 1.97647225856781, [0.0, 0.75, 0.0]),\n",
       "        (True, False, 2.6014187335968018, [0.0, 0.75, 0.0]),\n",
       "        (False, False, 2.8355143070220947, [0.3400000035762787, 0.23100000619888306, 0.05000000074505806])],\n",
       "       [(True, False, 2.2249269485473633, [0.0, 0.75, 0.0]),\n",
       "        (True, False, 3.4507086277008057, [0.0, 0.75, 0.0]),\n",
       "        (True, False, 0.814721405506134, [0.0, 0.75, 0.0]), ...,\n",
       "        (False, False, 3.0474820137023926, [0.3400000035762787, 0.23100000619888306, 0.05000000074505806]),\n",
       "        (True, False, 3.757178544998169, [0.0, 0.75, 0.0]),\n",
       "        (False, False, 0.18600986897945404, [0.3400000035762787, 0.23100000619888306, 0.05000000074505806])],\n",
       "       [(True, False, 0.4896184802055359, [0.0, 0.75, 0.0]),\n",
       "        (True, False, 2.059809684753418, [0.0, 0.75, 0.0]),\n",
       "        (True, False, 1.024889588356018, [0.0, 0.75, 0.0]), ...,\n",
       "        (True, False, 1.8511041402816772, [0.0, 0.75, 0.0]),\n",
       "        (True, False, 3.6234285831451416, [0.0, 0.75, 0.0]),\n",
       "        (False, False, 3.947628974914551, [0.3400000035762787, 0.23100000619888306, 0.05000000074505806])],\n",
       "       ..., \n",
       "       [(True, False, 2.7857728004455566, [0.0, 0.75, 0.0]),\n",
       "        (False, False, 1.074761152267456, [0.3400000035762787, 0.23100000619888306, 0.05000000074505806]),\n",
       "        (True, False, 0.4137880802154541, [0.0, 0.75, 0.0]), ...,\n",
       "        (True, False, 2.8297386169433594, [0.0, 0.75, 0.0]),\n",
       "        (True, False, 0.8531972765922546, [0.0, 0.75, 0.0]),\n",
       "        (False, False, 2.567927598953247, [0.3400000035762787, 0.23100000619888306, 0.05000000074505806])],\n",
       "       [(True, True, 0.09766598045825958, [1.0, 0.0, 0.0]),\n",
       "        (True, False, 0.7074517607688904, [0.0, 0.75, 0.0]),\n",
       "        (True, False, 0.1305454969406128, [0.0, 0.75, 0.0]), ...,\n",
       "        (True, False, 3.1221649646759033, [0.0, 0.75, 0.0]),\n",
       "        (True, False, 3.6631267070770264, [0.0, 0.75, 0.0]),\n",
       "        (True, False, 0.2073713093996048, [0.0, 0.75, 0.0])],\n",
       "       [(True, False, 3.50009822845459, [0.0, 0.75, 0.0]),\n",
       "        (False, False, 2.342595100402832, [0.3400000035762787, 0.23100000619888306, 0.05000000074505806]),\n",
       "        (True, False, 3.0371689796447754, [0.0, 0.75, 0.0]), ...,\n",
       "        (True, False, 2.5829050540924072, [0.0, 0.75, 0.0]),\n",
       "        (True, False, 3.9719443321228027, [0.0, 0.75, 0.0]),\n",
       "        (True, False, 0.4880307614803314, [0.0, 0.75, 0.0])]], \n",
       "      dtype=[('Tree', '?'), ('Burning', '?'), ('ProbImmune', '<f4'), ('Value', '<f4', (3,))])"
      ]
     },
     "execution_count": 72,
     "metadata": {},
     "output_type": "execute_result"
    }
   ],
   "source": [
    "GridBig01"
   ]
  },
  {
   "cell_type": "code",
   "execution_count": 70,
   "metadata": {
    "collapsed": false,
    "scrolled": true
   },
   "outputs": [
    {
     "ename": "AttributeError",
     "evalue": "'FireGrid' object has no attribute 'count'",
     "output_type": "error",
     "traceback": [
      "\u001b[0;31m---------------------------------------------------------------------------\u001b[0m",
      "\u001b[0;31mAttributeError\u001b[0m                            Traceback (most recent call last)",
      "\u001b[0;32m<ipython-input-70-0d013180af9d>\u001b[0m in \u001b[0;36m<module>\u001b[0;34m()\u001b[0m\n\u001b[1;32m      2\u001b[0m MyAnimation = animation.FuncAnimation(MyFigure, af,\n\u001b[1;32m      3\u001b[0m                                frames=AnimationFrames, interval=DelayBetweenFrames, blit=False)\n\u001b[0;32m----> 4\u001b[0;31m \u001b[0mMyAnimation\u001b[0m\u001b[1;33m.\u001b[0m\u001b[0msave\u001b[0m\u001b[1;33m(\u001b[0m\u001b[1;34m'FireSim_80_01h264.mp4'\u001b[0m\u001b[1;33m,\u001b[0m\u001b[0mextra_args\u001b[0m\u001b[1;33m=\u001b[0m\u001b[1;33m[\u001b[0m\u001b[1;34m'-vcodec'\u001b[0m\u001b[1;33m,\u001b[0m \u001b[1;34m'h264'\u001b[0m\u001b[1;33m]\u001b[0m\u001b[1;33m)\u001b[0m\u001b[1;33m\u001b[0m\u001b[0m\n\u001b[0m",
      "\u001b[0;32mC:\\Anaconda3\\lib\\site-packages\\matplotlib\\animation.py\u001b[0m in \u001b[0;36msave\u001b[0;34m(self, filename, writer, fps, dpi, codec, bitrate, extra_args, metadata, extra_anim, savefig_kwargs)\u001b[0m\n\u001b[1;32m    802\u001b[0m             \u001b[1;32mfor\u001b[0m \u001b[0manim\u001b[0m \u001b[1;32min\u001b[0m \u001b[0mall_anim\u001b[0m\u001b[1;33m:\u001b[0m\u001b[1;33m\u001b[0m\u001b[0m\n\u001b[1;32m    803\u001b[0m                 \u001b[1;31m# Clear the initial frame\u001b[0m\u001b[1;33m\u001b[0m\u001b[1;33m\u001b[0m\u001b[0m\n\u001b[0;32m--> 804\u001b[0;31m                 \u001b[0manim\u001b[0m\u001b[1;33m.\u001b[0m\u001b[0m_init_draw\u001b[0m\u001b[1;33m(\u001b[0m\u001b[1;33m)\u001b[0m\u001b[1;33m\u001b[0m\u001b[0m\n\u001b[0m\u001b[1;32m    805\u001b[0m             for data in zip(*[a.new_saved_frame_seq()\n\u001b[1;32m    806\u001b[0m                               for a in all_anim]):\n",
      "\u001b[0;32mC:\\Anaconda3\\lib\\site-packages\\matplotlib\\animation.py\u001b[0m in \u001b[0;36m_init_draw\u001b[0;34m(self)\u001b[0m\n\u001b[1;32m   1191\u001b[0m         \u001b[1;31m# artists.\u001b[0m\u001b[1;33m\u001b[0m\u001b[1;33m\u001b[0m\u001b[0m\n\u001b[1;32m   1192\u001b[0m         \u001b[1;32mif\u001b[0m \u001b[0mself\u001b[0m\u001b[1;33m.\u001b[0m\u001b[0m_init_func\u001b[0m \u001b[1;32mis\u001b[0m \u001b[1;32mNone\u001b[0m\u001b[1;33m:\u001b[0m\u001b[1;33m\u001b[0m\u001b[0m\n\u001b[0;32m-> 1193\u001b[0;31m             \u001b[0mself\u001b[0m\u001b[1;33m.\u001b[0m\u001b[0m_draw_frame\u001b[0m\u001b[1;33m(\u001b[0m\u001b[0mnext\u001b[0m\u001b[1;33m(\u001b[0m\u001b[0mself\u001b[0m\u001b[1;33m.\u001b[0m\u001b[0mnew_frame_seq\u001b[0m\u001b[1;33m(\u001b[0m\u001b[1;33m)\u001b[0m\u001b[1;33m)\u001b[0m\u001b[1;33m)\u001b[0m\u001b[1;33m\u001b[0m\u001b[0m\n\u001b[0m\u001b[1;32m   1194\u001b[0m \u001b[1;33m\u001b[0m\u001b[0m\n\u001b[1;32m   1195\u001b[0m         \u001b[1;32melse\u001b[0m\u001b[1;33m:\u001b[0m\u001b[1;33m\u001b[0m\u001b[0m\n",
      "\u001b[0;32mC:\\Anaconda3\\lib\\site-packages\\matplotlib\\animation.py\u001b[0m in \u001b[0;36m_draw_frame\u001b[0;34m(self, framedata)\u001b[0m\n\u001b[1;32m   1210\u001b[0m         \u001b[1;31m# Call the func with framedata and args. If blitting is desired,\u001b[0m\u001b[1;33m\u001b[0m\u001b[1;33m\u001b[0m\u001b[0m\n\u001b[1;32m   1211\u001b[0m         \u001b[1;31m# func needs to return a sequence of any artists that were modified.\u001b[0m\u001b[1;33m\u001b[0m\u001b[1;33m\u001b[0m\u001b[0m\n\u001b[0;32m-> 1212\u001b[0;31m         \u001b[0mself\u001b[0m\u001b[1;33m.\u001b[0m\u001b[0m_drawn_artists\u001b[0m \u001b[1;33m=\u001b[0m \u001b[0mself\u001b[0m\u001b[1;33m.\u001b[0m\u001b[0m_func\u001b[0m\u001b[1;33m(\u001b[0m\u001b[0mframedata\u001b[0m\u001b[1;33m,\u001b[0m \u001b[1;33m*\u001b[0m\u001b[0mself\u001b[0m\u001b[1;33m.\u001b[0m\u001b[0m_args\u001b[0m\u001b[1;33m)\u001b[0m\u001b[1;33m\u001b[0m\u001b[0m\n\u001b[0m\u001b[1;32m   1213\u001b[0m         \u001b[1;32mif\u001b[0m \u001b[0mself\u001b[0m\u001b[1;33m.\u001b[0m\u001b[0m_blit\u001b[0m\u001b[1;33m:\u001b[0m\u001b[1;33m\u001b[0m\u001b[0m\n\u001b[1;32m   1214\u001b[0m             \u001b[1;32mfor\u001b[0m \u001b[0ma\u001b[0m \u001b[1;32min\u001b[0m \u001b[0mself\u001b[0m\u001b[1;33m.\u001b[0m\u001b[0m_drawn_artists\u001b[0m\u001b[1;33m:\u001b[0m\u001b[1;33m\u001b[0m\u001b[0m\n",
      "\u001b[0;32m<ipython-input-29-713bd878b317>\u001b[0m in \u001b[0;36maf\u001b[0;34m(n)\u001b[0m\n\u001b[1;32m      1\u001b[0m \u001b[1;32mdef\u001b[0m \u001b[0maf\u001b[0m\u001b[1;33m(\u001b[0m\u001b[0mn\u001b[0m\u001b[1;33m)\u001b[0m\u001b[1;33m:\u001b[0m\u001b[1;33m\u001b[0m\u001b[0m\n\u001b[0;32m----> 2\u001b[0;31m     \u001b[0muf\u001b[0m\u001b[1;33m(\u001b[0m\u001b[1;33m)\u001b[0m\u001b[1;33m\u001b[0m\u001b[0m\n\u001b[0m",
      "\u001b[0;32m<ipython-input-28-da8e1084ac1b>\u001b[0m in \u001b[0;36muf\u001b[0;34m()\u001b[0m\n\u001b[1;32m      1\u001b[0m \u001b[1;32mdef\u001b[0m \u001b[0muf\u001b[0m\u001b[1;33m(\u001b[0m\u001b[1;33m)\u001b[0m\u001b[1;33m:\u001b[0m\u001b[1;33m\u001b[0m\u001b[0m\n\u001b[0;32m----> 2\u001b[0;31m     \u001b[0mMyGrid\u001b[0m\u001b[1;33m.\u001b[0m\u001b[0mUpdate\u001b[0m\u001b[1;33m(\u001b[0m\u001b[1;33m)\u001b[0m\u001b[1;33m\u001b[0m\u001b[0m\n\u001b[0m\u001b[1;32m      3\u001b[0m     \u001b[0mMyAxes\u001b[0m\u001b[1;33m.\u001b[0m\u001b[0mimshow\u001b[0m\u001b[1;33m(\u001b[0m\u001b[0mMyGrid\u001b[0m\u001b[1;33m[\u001b[0m\u001b[1;34m'Value'\u001b[0m\u001b[1;33m]\u001b[0m\u001b[1;33m,\u001b[0m\u001b[0minterpolation\u001b[0m\u001b[1;33m=\u001b[0m\u001b[1;34m'nearest'\u001b[0m\u001b[1;33m)\u001b[0m\u001b[1;33m\u001b[0m\u001b[0m\n\u001b[1;32m      4\u001b[0m     \u001b[1;31m#MyAxes.imshow(MyGrid['Value'])\u001b[0m\u001b[1;33m\u001b[0m\u001b[1;33m\u001b[0m\u001b[0m\n\u001b[1;32m      5\u001b[0m     \u001b[0mMyFigure\u001b[0m\u001b[1;33m\u001b[0m\u001b[0m\n",
      "\u001b[0;32mC:\\Users\\wholmes3\\Google Drive\\GitHub\\Laptop\\CellularAutomaton\\FireSimulation.py\u001b[0m in \u001b[0;36mUpdate\u001b[0;34m(self)\u001b[0m\n\u001b[1;32m     14\u001b[0m \u001b[1;33m\u001b[0m\u001b[0m\n\u001b[1;32m     15\u001b[0m         \u001b[1;31m#determine the number of neighbors on fire\u001b[0m\u001b[1;33m\u001b[0m\u001b[1;33m\u001b[0m\u001b[0m\n\u001b[0;32m---> 16\u001b[0;31m         \u001b[0mnumpy\u001b[0m\u001b[1;33m.\u001b[0m\u001b[0mplace\u001b[0m\u001b[1;33m(\u001b[0m\u001b[0mself\u001b[0m\u001b[1;33m.\u001b[0m\u001b[0mcount\u001b[0m\u001b[1;33m,\u001b[0m\u001b[0mself\u001b[0m\u001b[1;33m.\u001b[0m\u001b[0mTrueArray\u001b[0m\u001b[1;33m,\u001b[0m\u001b[1;36m0\u001b[0m\u001b[1;33m)\u001b[0m\u001b[1;33m\u001b[0m\u001b[0m\n\u001b[0m\u001b[1;32m     17\u001b[0m         \u001b[1;32mfor\u001b[0m \u001b[0mn\u001b[0m \u001b[1;32min\u001b[0m \u001b[0mself\u001b[0m\u001b[1;33m.\u001b[0m\u001b[0mNeighbors\u001b[0m\u001b[1;33m:\u001b[0m\u001b[1;33m\u001b[0m\u001b[0m\n\u001b[1;32m     18\u001b[0m             \u001b[0mself\u001b[0m\u001b[1;33m.\u001b[0m\u001b[0mcount\u001b[0m \u001b[1;33m=\u001b[0m \u001b[0mself\u001b[0m\u001b[1;33m.\u001b[0m\u001b[0mcount\u001b[0m \u001b[1;33m+\u001b[0m \u001b[0mn\u001b[0m\u001b[1;33m[\u001b[0m\u001b[1;34m'Burning'\u001b[0m\u001b[1;33m]\u001b[0m\u001b[1;33m\u001b[0m\u001b[0m\n",
      "\u001b[0;31mAttributeError\u001b[0m: 'FireGrid' object has no attribute 'count'"
     ]
    }
   ],
   "source": [
    "MyGrid=GridBig01.copy()\n",
    "MyAnimation = animation.FuncAnimation(MyFigure, af,\n",
    "                               frames=AnimationFrames, interval=DelayBetweenFrames, blit=False)\n",
    "MyAnimation.save('FireSim_80_01h264.mp4',extra_args=['-vcodec', 'h264'])"
   ]
  },
  {
   "cell_type": "markdown",
   "metadata": {},
   "source": [
    "<video controls src=\"FireSim_80_01h264.mp4\" />"
   ]
  },
  {
   "cell_type": "markdown",
   "metadata": {},
   "source": [
    "<h3>Simulation 02</h3>"
   ]
  },
  {
   "cell_type": "code",
   "execution_count": null,
   "metadata": {
    "collapsed": true,
    "scrolled": false
   },
   "outputs": [],
   "source": [
    "def init(grid, rows, columns):\n",
    "    for y in range(rows):\n",
    "        for x in range(columns):\n",
    "            grid['ProbImmune'][y][x]  = random() * 4\n",
    "            if random() < 0.75:\n",
    "                MyGrid['Tree'][y][x]    = True\n",
    "                MyGrid['Burning'][y][x] = False\n",
    "            else:\n",
    "                MyGrid['Tree'][y][x]    = False\n",
    "                MyGrid['Burning'][y][x] = False\n",
    "    grid.SetValue()\n",
    "    grid.SetBoundary()"
   ]
  },
  {
   "cell_type": "code",
   "execution_count": null,
   "metadata": {
    "collapsed": false,
    "scrolled": true
   },
   "outputs": [],
   "source": [
    "rows = 200\n",
    "columns = 400\n",
    "MyGrid=FireGrid((rows,columns),MyDtype)  #initilized with whatever random memory was at the location.\n",
    "init(MyGrid,rows,columns)\n",
    "MyGrid['Burning'][100][98] = True\n",
    "MyGrid['Burning'][100][99]  = True\n",
    "MyGrid['Burning'][100][100] = True\n",
    "MyGrid['Burning'][100][101] = True\n",
    "MyGrid['Burning'][100][102] = True\n",
    "\n",
    "MyFigure, MyAxes = plt.subplots()\n",
    "MyAxes.imshow(MyGrid['Value'],interpolation='nearest')"
   ]
  },
  {
   "cell_type": "code",
   "execution_count": null,
   "metadata": {
    "collapsed": false,
    "scrolled": false
   },
   "outputs": [],
   "source": [
    "AnimationFrames = 300  #total number of frames in animation.\n",
    "DelayBetweenFrames = 50 #in msec (20 gives 50 fps) (33.3 gives 30 fps)\n",
    "AnimationTime = AnimationFrames * DelayBetweenFrames/1000\n",
    "print (\"The animation will be {:.1f} seconds long.\".format(AnimationTime))"
   ]
  },
  {
   "cell_type": "code",
   "execution_count": null,
   "metadata": {
    "collapsed": false,
    "scrolled": false
   },
   "outputs": [],
   "source": [
    "MyAnimation = animation.FuncAnimation(MyFigure, af,\n",
    "                               frames=AnimationFrames, interval=DelayBetweenFrames, blit=False)\n",
    "MyAnimation"
   ]
  },
  {
   "cell_type": "markdown",
   "metadata": {},
   "source": [
    "<h3>Simulation 04</h3>"
   ]
  },
  {
   "cell_type": "code",
   "execution_count": null,
   "metadata": {
    "collapsed": true,
    "scrolled": false
   },
   "outputs": [],
   "source": [
    "def init(grid, rows, columns):\n",
    "    for y in range(rows):\n",
    "        for x in range(columns):\n",
    "            grid['ProbImmune'][y][x]  = uniform(.2, .75) * 4\n",
    "            if random() < 0.9:\n",
    "                MyGrid['Tree'][y][x]    = True\n",
    "                MyGrid['Burning'][y][x] = False\n",
    "            else:\n",
    "                MyGrid['Tree'][y][x]    = False\n",
    "                MyGrid['Burning'][y][x] = False\n",
    "    grid.SetValue()\n",
    "    grid.SetBoundary()"
   ]
  },
  {
   "cell_type": "code",
   "execution_count": null,
   "metadata": {
    "collapsed": false,
    "scrolled": true
   },
   "outputs": [],
   "source": [
    "rows = 200\n",
    "columns = 400\n",
    "MyGrid=FireGrid((rows,columns),MyDtype)  #initilized with whatever random memory was at the location.\n",
    "init(MyGrid,rows,columns)\n",
    "MyGrid['Burning'][100][98] = True\n",
    "MyGrid['Burning'][100][99]  = True\n",
    "MyGrid['Burning'][100][100] = True\n",
    "MyGrid['Burning'][100][101] = True\n",
    "MyGrid['Burning'][100][102] = True\n",
    "\n",
    "MyFigure, MyAxes = plt.subplots()\n",
    "MyAxes.imshow(MyGrid['Value'],interpolation='nearest')"
   ]
  },
  {
   "cell_type": "code",
   "execution_count": null,
   "metadata": {
    "collapsed": false,
    "scrolled": false
   },
   "outputs": [],
   "source": [
    "AnimationFrames = 300  #total number of frames in animation.\n",
    "DelayBetweenFrames = 50 #in msec (20 gives 50 fps) (33.3 gives 30 fps)\n",
    "AnimationTime = AnimationFrames * DelayBetweenFrames/1000\n",
    "print (\"The animation will be {:.1f} seconds long.\".format(AnimationTime))"
   ]
  },
  {
   "cell_type": "code",
   "execution_count": null,
   "metadata": {
    "collapsed": false,
    "scrolled": true
   },
   "outputs": [],
   "source": [
    "MyAnimation = animation.FuncAnimation(MyFigure, af,\n",
    "                               frames=AnimationFrames, interval=DelayBetweenFrames, blit=False)\n",
    "MyAnimation"
   ]
  },
  {
   "cell_type": "markdown",
   "metadata": {},
   "source": [
    "<h3>Simulation 05</h3>"
   ]
  },
  {
   "cell_type": "code",
   "execution_count": null,
   "metadata": {
    "collapsed": false,
    "scrolled": true
   },
   "outputs": [],
   "source": [
    "from random import uniform"
   ]
  },
  {
   "cell_type": "code",
   "execution_count": null,
   "metadata": {
    "collapsed": true,
    "scrolled": false
   },
   "outputs": [],
   "source": [
    "def init(grid, rows, columns):\n",
    "    for y in range(rows):\n",
    "        for x in range(columns):\n",
    "            grid['ProbImmune'][y][x]  = uniform(.2, .75) * 4\n",
    "            if random() < 0.8:\n",
    "                MyGrid['Tree'][y][x]    = True\n",
    "                MyGrid['Burning'][y][x] = False\n",
    "            else:\n",
    "                MyGrid['Tree'][y][x]    = False\n",
    "                MyGrid['Burning'][y][x] = False\n",
    "    grid.SetValue()\n",
    "    grid.SetBoundary()"
   ]
  },
  {
   "cell_type": "code",
   "execution_count": null,
   "metadata": {
    "collapsed": false,
    "scrolled": true
   },
   "outputs": [],
   "source": [
    "rows = 200\n",
    "columns = 400\n",
    "MyGrid=FireGrid((rows,columns),MyDtype)  #initilized with whatever random memory was at the location.\n",
    "init(MyGrid,rows,columns)\n",
    "MyGrid['Burning'][100][98] = True\n",
    "MyGrid['Burning'][100][99]  = True\n",
    "MyGrid['Burning'][100][100] = True\n",
    "MyGrid['Burning'][100][101] = True\n",
    "MyGrid['Burning'][100][102] = True\n",
    "\n",
    "MyFigure, MyAxes = plt.subplots()\n",
    "MyAxes.imshow(MyGrid['Value'],interpolation='nearest')"
   ]
  },
  {
   "cell_type": "code",
   "execution_count": null,
   "metadata": {
    "collapsed": false,
    "scrolled": false
   },
   "outputs": [],
   "source": [
    "AnimationFrames = 500  #total number of frames in animation.\n",
    "DelayBetweenFrames = 50 #in msec (20 gives 50 fps) (33.3 gives 30 fps)\n",
    "AnimationTime = AnimationFrames * DelayBetweenFrames/1000\n",
    "print (\"The animation will be {:.1f} seconds long.\".format(AnimationTime))"
   ]
  },
  {
   "cell_type": "code",
   "execution_count": null,
   "metadata": {
    "collapsed": false,
    "scrolled": true
   },
   "outputs": [],
   "source": [
    "MyAnimation = animation.FuncAnimation(MyFigure, af,\n",
    "                               frames=AnimationFrames, interval=DelayBetweenFrames, blit=False)\n",
    "MyAnimation"
   ]
  },
  {
   "cell_type": "markdown",
   "metadata": {},
   "source": [
    "<h3>Simulation 05</h3>"
   ]
  },
  {
   "cell_type": "code",
   "execution_count": null,
   "metadata": {
    "collapsed": false,
    "scrolled": true
   },
   "outputs": [],
   "source": [
    "from random import uniform"
   ]
  },
  {
   "cell_type": "code",
   "execution_count": null,
   "metadata": {
    "collapsed": true,
    "scrolled": false
   },
   "outputs": [],
   "source": [
    "def init(grid, rows, columns):\n",
    "    for y in range(rows):\n",
    "        for x in range(columns):\n",
    "            grid['ProbImmune'][y][x]  = uniform(.2, .75) * 4\n",
    "            if random() < 0.85:\n",
    "                MyGrid['Tree'][y][x]    = True\n",
    "                MyGrid['Burning'][y][x] = False\n",
    "            else:\n",
    "                MyGrid['Tree'][y][x]    = False\n",
    "                MyGrid['Burning'][y][x] = False\n",
    "    grid.SetValue()\n",
    "    grid.SetBoundary()"
   ]
  },
  {
   "cell_type": "code",
   "execution_count": null,
   "metadata": {
    "collapsed": false,
    "scrolled": true
   },
   "outputs": [],
   "source": [
    "rows = 200\n",
    "columns = 400\n",
    "MyGrid=FireGrid((rows,columns),MyDtype)  #initilized with whatever random memory was at the location.\n",
    "init(MyGrid,rows,columns)\n",
    "MyGrid['Burning'][100][98] = True\n",
    "MyGrid['Burning'][100][99]  = True\n",
    "MyGrid['Burning'][100][100] = True\n",
    "MyGrid['Burning'][100][101] = True\n",
    "MyGrid['Burning'][100][102] = True\n",
    "\n",
    "MyFigure, MyAxes = plt.subplots()\n",
    "MyAxes.imshow(MyGrid['Value'],interpolation='nearest')"
   ]
  },
  {
   "cell_type": "code",
   "execution_count": null,
   "metadata": {
    "collapsed": false,
    "scrolled": false
   },
   "outputs": [],
   "source": [
    "AnimationFrames = 500  #total number of frames in animation.\n",
    "DelayBetweenFrames = 50 #in msec (20 gives 50 fps) (33.3 gives 30 fps)\n",
    "AnimationTime = AnimationFrames * DelayBetweenFrames/1000\n",
    "print (\"The animation will be {:.1f} seconds long.\".format(AnimationTime))"
   ]
  },
  {
   "cell_type": "code",
   "execution_count": null,
   "metadata": {
    "collapsed": false,
    "scrolled": true
   },
   "outputs": [],
   "source": [
    "MyAnimation = animation.FuncAnimation(MyFigure, af,\n",
    "                               frames=AnimationFrames, interval=DelayBetweenFrames, blit=False)\n",
    "MyAnimation"
   ]
  },
  {
   "cell_type": "markdown",
   "metadata": {},
   "source": [
    "<h3>Simulation 05</h3>"
   ]
  },
  {
   "cell_type": "code",
   "execution_count": null,
   "metadata": {
    "collapsed": true,
    "scrolled": false
   },
   "outputs": [],
   "source": [
    "def init(grid, rows, columns):\n",
    "    for y in range(rows):\n",
    "        for x in range(columns):\n",
    "            grid['ProbImmune'][y][x]  = uniform(.2, .75) * 4\n",
    "            if random() < 0.77:\n",
    "                MyGrid['Tree'][y][x]    = True\n",
    "                MyGrid['Burning'][y][x] = False\n",
    "            else:\n",
    "                MyGrid['Tree'][y][x]    = False\n",
    "                MyGrid['Burning'][y][x] = False\n",
    "    grid.SetValue()\n",
    "    grid.SetBoundary()"
   ]
  },
  {
   "cell_type": "code",
   "execution_count": null,
   "metadata": {
    "collapsed": false,
    "scrolled": true
   },
   "outputs": [],
   "source": [
    "rows = 200\n",
    "columns = 400\n",
    "MyGrid=FireGrid((rows,columns),MyDtype)  #initilized with whatever random memory was at the location.\n",
    "init(MyGrid,rows,columns)\n",
    "MyGrid['Burning'][:][0]  = True\n",
    "\n",
    "MyFigure, MyAxes = plt.subplots()\n",
    "MyAxes.imshow(MyGrid['Value'],interpolation='nearest')"
   ]
  },
  {
   "cell_type": "code",
   "execution_count": null,
   "metadata": {
    "collapsed": false,
    "scrolled": false
   },
   "outputs": [],
   "source": [
    "AnimationFrames = 500  #total number of frames in animation.\n",
    "DelayBetweenFrames = 50 #in msec (20 gives 50 fps) (33.3 gives 30 fps)\n",
    "AnimationTime = AnimationFrames * DelayBetweenFrames/1000\n",
    "print (\"The animation will be {:.1f} seconds long.\".format(AnimationTime))"
   ]
  },
  {
   "cell_type": "code",
   "execution_count": null,
   "metadata": {
    "collapsed": false,
    "scrolled": false
   },
   "outputs": [],
   "source": [
    "MyAnimation = animation.FuncAnimation(MyFigure, af,\n",
    "                               frames=AnimationFrames, interval=DelayBetweenFrames, blit=False)\n",
    "MyAnimation"
   ]
  },
  {
   "cell_type": "markdown",
   "metadata": {},
   "source": [
    "<h3>Simulation 05</h3>"
   ]
  },
  {
   "cell_type": "code",
   "execution_count": null,
   "metadata": {
    "collapsed": true,
    "scrolled": false
   },
   "outputs": [],
   "source": [
    "def init(grid, rows, columns):\n",
    "    for y in range(rows):\n",
    "        for x in range(columns):\n",
    "            grid['ProbImmune'][y][x]  = uniform(.2, .75) * 4\n",
    "            if random() < 0.83:\n",
    "                MyGrid['Tree'][y][x]    = True\n",
    "                MyGrid['Burning'][y][x] = False\n",
    "            else:\n",
    "                MyGrid['Tree'][y][x]    = False\n",
    "                MyGrid['Burning'][y][x] = False\n",
    "    grid.SetValue()\n",
    "    grid.SetBoundary()"
   ]
  },
  {
   "cell_type": "code",
   "execution_count": null,
   "metadata": {
    "collapsed": false,
    "scrolled": true
   },
   "outputs": [],
   "source": [
    "rows = 200\n",
    "columns = 400\n",
    "MyGrid=FireGrid((rows,columns),MyDtype)  #initilized with whatever random memory was at the location.\n",
    "init(MyGrid,rows,columns)\n",
    "MyGrid['Burning'][1][:]  = True\n",
    "\n",
    "MyFigure, MyAxes = plt.subplots()\n",
    "MyAxes.imshow(MyGrid['Value'],interpolation='nearest')"
   ]
  },
  {
   "cell_type": "code",
   "execution_count": null,
   "metadata": {
    "collapsed": false,
    "scrolled": false
   },
   "outputs": [],
   "source": [
    "AnimationFrames = 500  #total number of frames in animation.\n",
    "DelayBetweenFrames = 50 #in msec (20 gives 50 fps) (33.3 gives 30 fps)\n",
    "AnimationTime = AnimationFrames * DelayBetweenFrames/1000\n",
    "print (\"The animation will be {:.1f} seconds long.\".format(AnimationTime))"
   ]
  },
  {
   "cell_type": "code",
   "execution_count": null,
   "metadata": {
    "collapsed": false,
    "scrolled": false
   },
   "outputs": [],
   "source": [
    "MyAnimationB = animation.FuncAnimation(MyFigure, af,\n",
    "                               frames=AnimationFrames, interval=DelayBetweenFrames, blit=False)\n",
    "MyAnimationB"
   ]
  },
  {
   "cell_type": "markdown",
   "metadata": {},
   "source": [
    "<h3>Simulation 05</h3>"
   ]
  },
  {
   "cell_type": "code",
   "execution_count": null,
   "metadata": {
    "collapsed": true,
    "scrolled": false
   },
   "outputs": [],
   "source": [
    "def init(grid, rows, columns):\n",
    "    for y in range(rows):\n",
    "        for x in range(columns):\n",
    "            grid['ProbImmune'][y][x]  = uniform(.2, .75) * 4\n",
    "            if random() < 0.80:\n",
    "                MyGrid['Tree'][y][x]    = True\n",
    "                MyGrid['Burning'][y][x] = False\n",
    "            else:\n",
    "                MyGrid['Tree'][y][x]    = False\n",
    "                MyGrid['Burning'][y][x] = False\n",
    "    grid.SetValue()\n",
    "    grid.SetBoundary()"
   ]
  },
  {
   "cell_type": "code",
   "execution_count": null,
   "metadata": {
    "collapsed": false,
    "scrolled": true
   },
   "outputs": [],
   "source": [
    "rows = 200\n",
    "columns = 400\n",
    "MyGrid=FireGrid((rows,columns),MyDtype)  #initilized with whatever random memory was at the location.\n",
    "init(MyGrid,rows,columns)\n",
    "MyGrid['Burning'][1][:]  = True\n",
    "\n",
    "MyFigure, MyAxes = plt.subplots()\n",
    "MyAxes.imshow(MyGrid['Value'],interpolation='nearest')"
   ]
  },
  {
   "cell_type": "code",
   "execution_count": null,
   "metadata": {
    "collapsed": false,
    "scrolled": false
   },
   "outputs": [],
   "source": [
    "AnimationFrames = 300  #total number of frames in animation.\n",
    "DelayBetweenFrames = 50 #in msec (20 gives 50 fps) (33.3 gives 30 fps)\n",
    "AnimationTime = AnimationFrames * DelayBetweenFrames/1000\n",
    "print (\"The animation will be {:.1f} seconds long.\".format(AnimationTime))"
   ]
  },
  {
   "cell_type": "code",
   "execution_count": null,
   "metadata": {
    "collapsed": false,
    "scrolled": true
   },
   "outputs": [],
   "source": [
    "MyAnimationC = animation.FuncAnimation(MyFigure, af,\n",
    "                               frames=AnimationFrames, interval=DelayBetweenFrames, blit=False)\n",
    "MyAnimationC"
   ]
  },
  {
   "cell_type": "code",
   "execution_count": null,
   "metadata": {
    "collapsed": false
   },
   "outputs": [],
   "source": [
    "myWriter = animation.FFMpegWriter(fps = 30, extra_args=['-vcodec', 'libx264'])\n",
    "MyAnimationC.save('.\\AnimationC', writer = myWriter)"
   ]
  },
  {
   "cell_type": "code",
   "execution_count": null,
   "metadata": {
    "collapsed": true
   },
   "outputs": [],
   "source": []
  }
 ],
 "metadata": {
  "anaconda-cloud": {},
  "kernelspec": {
   "display_name": "Python [conda root]",
   "language": "python",
   "name": "conda-root-py"
  },
  "language_info": {
   "codemirror_mode": {
    "name": "ipython",
    "version": 3
   },
   "file_extension": ".py",
   "mimetype": "text/x-python",
   "name": "python",
   "nbconvert_exporter": "python",
   "pygments_lexer": "ipython3",
   "version": "3.5.2"
  }
 },
 "nbformat": 4,
 "nbformat_minor": 0
}
