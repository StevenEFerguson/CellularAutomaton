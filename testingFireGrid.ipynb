{
 "cells": [
  {
   "cell_type": "markdown",
   "metadata": {},
   "source": [
    "<center><h1>Testing and Documentation Notebook for Cellular Automaton Using Inheritance from Numpy NDArray</h1></center>\n",
    "<p>This document is for testing of a cellular automaton class which inherits much of its functionality from the Numpy module.  The class enables use of the array opperations (implemented in C) which should make the execution speed better.</p>\n",
    "<h2>Initialization</h2>"
   ]
  },
  {
   "cell_type": "code",
   "execution_count": 1,
   "metadata": {
    "collapsed": false,
    "scrolled": true
   },
   "outputs": [],
   "source": [
    "from FireSimulation import *\n",
    "from IPython.display import display\n",
    "import inspect\n",
    "\n",
    "from math import *\n",
    "%matplotlib inline\n",
    "import matplotlib\n",
    "from matplotlib import pyplot as plt\n",
    "\n",
    "from matplotlib import animation\n",
    "matplotlib.rc('animation', html='html5')\n",
    "\n",
    "goldenratio=1/2*(1+sqrt(5))\n",
    "fsx=7\n",
    "fsy=fsx/goldenratio\n",
    "\n",
    "def InfoDocString(function):\n",
    "    \"\"\"Function to return function definition and document string.\"\"\"\n",
    "    \n",
    "    code = inspect.getsource(function)\n",
    "    docstring = inspect.getdoc(function)\n",
    "    return code[0:code.find(':')+1].lstrip() +'\\n' + docstring"
   ]
  },
  {
   "cell_type": "markdown",
   "metadata": {},
   "source": [
    "<h3>Functions to help with testing</h3>"
   ]
  },
  {
   "cell_type": "code",
   "execution_count": 2,
   "metadata": {
    "collapsed": false,
    "scrolled": false
   },
   "outputs": [],
   "source": [
    "MyDtype = numpy.dtype([('Tree', bool), ('Burning', bool), ('ProbImmune', 'f'), ('Value', 'f', (3,))])\n",
    "\n",
    "def init(grid, rows, columns):\n",
    "    for y in range(Rows):\n",
    "        for x in range(Columns):\n",
    "            grid['ProbImmune'][y][x]  = random()\n",
    "            if random() < 0.75:\n",
    "                MyGrid['Tree'][y][x]    = True\n",
    "                MyGrid['Burning'][y][x] = random() < 0.1\n",
    "            else:\n",
    "                MyGrid['Tree'][y][x]    = False\n",
    "                MyGrid['Burning'][y][x] = False\n",
    "    grid.SetValue()\n",
    "    grid.SetBoundary()"
   ]
  },
  {
   "cell_type": "code",
   "execution_count": 3,
   "metadata": {
    "collapsed": false
   },
   "outputs": [
    {
     "data": {
      "image/png": "[encoded data removed]",
      "text/plain": [
       "<matplotlib.figure.Figure at 0x7d38be0>"
      ]
     },
     "metadata": {},
     "output_type": "display_data"
    }
   ],
   "source": [
    "MyFigure, MyAxes = plt.subplots(1,1,figsize=(fsx,fsy))"
   ]
  },
  {
   "cell_type": "markdown",
   "metadata": {},
   "source": [
    "<h2>Class Structure</h2>\n",
    "<p>The class FireGrid inherts CAGird.</p>"
   ]
  },
  {
   "cell_type": "code",
   "execution_count": 4,
   "metadata": {
    "collapsed": false,
    "scrolled": false
   },
   "outputs": [
    {
     "name": "stdout",
     "output_type": "stream",
     "text": [
      "class FireGrid(CAGrid):\n",
      "This class derives from CAGrid and changes update to make this a first simulation\n"
     ]
    }
   ],
   "source": [
    "print(InfoDocString(FireGrid))"
   ]
  },
  {
   "cell_type": "code",
   "execution_count": 5,
   "metadata": {
    "collapsed": false
   },
   "outputs": [
    {
     "name": "stdout",
     "output_type": "stream",
     "text": [
      "def Update(self):\n",
      "Update rules for a simple fire simulation\n"
     ]
    }
   ],
   "source": [
    "print(InfoDocString(FireGrid.Update))"
   ]
  },
  {
   "cell_type": "code",
   "execution_count": 6,
   "metadata": {
    "collapsed": false
   },
   "outputs": [
    {
     "name": "stdout",
     "output_type": "stream",
     "text": [
      "False\n"
     ]
    }
   ],
   "source": [
    "print(not True)"
   ]
  },
  {
   "cell_type": "markdown",
   "metadata": {},
   "source": [
    "<h2>Test a 3 x 3 Behavior</h2>\n",
    "<h3>Checker Board</h3>\n",
    "<p>The checker board pattern should be stable.  All cells have exactly two neighbors.</p>"
   ]
  },
  {
   "cell_type": "code",
   "execution_count": null,
   "metadata": {
    "collapsed": false,
    "scrolled": false
   },
   "outputs": [],
   "source": [
    "rows = 3\n",
    "columns = 3\n",
    "MyGrid=CAGrid((rows,columns),MyDtype)\n",
    "setstates(MyGrid, rows, columns, (0,1,0,1,0,1,0,1,0))\n",
    "MyAxes.matshow(MyGrid['Value'])\n",
    "MyFigure\n",
    "print(MyGrid['State'])\n",
    "print(MyGrid['Value'])"
   ]
  },
  {
   "cell_type": "code",
   "execution_count": null,
   "metadata": {
    "collapsed": false,
    "scrolled": false
   },
   "outputs": [],
   "source": [
    "MyAxes.matshow(MyGrid['Value'])\n",
    "MyFigure"
   ]
  },
  {
   "cell_type": "code",
   "execution_count": null,
   "metadata": {
    "collapsed": false,
    "scrolled": true
   },
   "outputs": [],
   "source": [
    "MyGrid.Update()\n",
    "MyAxes.matshow(MyGrid['Value'])\n",
    "MyFigure"
   ]
  },
  {
   "cell_type": "code",
   "execution_count": null,
   "metadata": {
    "collapsed": false,
    "scrolled": false
   },
   "outputs": [],
   "source": [
    "MyGrid.Update()\n",
    "print(MyGrid['State'])\n",
    "print(MyGrid['Value'])"
   ]
  },
  {
   "cell_type": "markdown",
   "metadata": {},
   "source": [
    "<h3>Line Continous</h3>\n",
    "<p>With periodic boundary conditions, a continous line grows and then dies do to overpopulation.</p>"
   ]
  },
  {
   "cell_type": "code",
   "execution_count": null,
   "metadata": {
    "collapsed": false,
    "scrolled": false
   },
   "outputs": [],
   "source": [
    "rows = 3\n",
    "columns = 3\n",
    "MyGrid=CAGrid((rows,columns),MyDtype)\n",
    "setstates(MyGrid, rows, columns, (0,0,0,1,1,1,0,0,0))\n",
    "print(MyGrid['Value'])"
   ]
  },
  {
   "cell_type": "code",
   "execution_count": null,
   "metadata": {
    "collapsed": false,
    "scrolled": false
   },
   "outputs": [],
   "source": [
    "MyGrid.Update()\n",
    "print(MyGrid['Value'])"
   ]
  },
  {
   "cell_type": "code",
   "execution_count": null,
   "metadata": {
    "collapsed": false,
    "scrolled": false
   },
   "outputs": [],
   "source": [
    "MyGrid.Update()\n",
    "print(MyGrid['Value'])"
   ]
  },
  {
   "cell_type": "markdown",
   "metadata": {},
   "source": [
    "<h3>Blinker</h3>\n",
    "<p>If we surround the line with empty cells, it is a <a href = http://web.stanford.edu/~cdebs/GameOfLife/ >blinker</a>.</p>"
   ]
  },
  {
   "cell_type": "code",
   "execution_count": null,
   "metadata": {
    "collapsed": false,
    "scrolled": false
   },
   "outputs": [],
   "source": [
    "rows = 4\n",
    "columns = 4\n",
    "MyGrid=CAGrid((rows,columns),MyDtype)\n",
    "setstates(MyGrid, rows, columns, (0,0,0,0, 0,1,1,1, 0,0,0,0, 0,0,0,0))\n",
    "print(MyGrid['Value'])"
   ]
  },
  {
   "cell_type": "code",
   "execution_count": null,
   "metadata": {
    "collapsed": false,
    "scrolled": false
   },
   "outputs": [],
   "source": [
    "MyGrid.Update()\n",
    "print(MyGrid['Value'])"
   ]
  },
  {
   "cell_type": "code",
   "execution_count": null,
   "metadata": {
    "collapsed": false,
    "scrolled": false
   },
   "outputs": [],
   "source": [
    "MyGrid.Update()\n",
    "print(MyGrid['Value'])"
   ]
  },
  {
   "cell_type": "code",
   "execution_count": null,
   "metadata": {
    "collapsed": false,
    "scrolled": false
   },
   "outputs": [],
   "source": [
    "MyGrid.Update()\n",
    "print(MyGrid['Value'])"
   ]
  },
  {
   "cell_type": "markdown",
   "metadata": {},
   "source": [
    "<h2>Small Grid Animation Test</h2>"
   ]
  },
  {
   "cell_type": "code",
   "execution_count": null,
   "metadata": {
    "collapsed": false,
    "scrolled": true
   },
   "outputs": [],
   "source": [
    "def uf():\n",
    "    MyGrid.Update()\n",
    "    MyAxes.matshow(MyGrid['Value'])\n",
    "    MyFigure"
   ]
  },
  {
   "cell_type": "code",
   "execution_count": null,
   "metadata": {
    "collapsed": true,
    "scrolled": true
   },
   "outputs": [],
   "source": [
    "def af(n):\n",
    "    uf()"
   ]
  },
  {
   "cell_type": "code",
   "execution_count": null,
   "metadata": {
    "collapsed": false,
    "scrolled": true
   },
   "outputs": [],
   "source": [
    "rows = 25\n",
    "columns = 50\n",
    "MyGrid=CAGrid((rows,columns),MyDtype)  #initilized with whatever random memory was at the location.\n",
    "MyGrid.FinishUpdate()\n",
    "MyFigure, MyAxes = plt.subplots()\n",
    "MyAxes.matshow(MyGrid['State'])"
   ]
  },
  {
   "cell_type": "code",
   "execution_count": null,
   "metadata": {
    "collapsed": false,
    "scrolled": false
   },
   "outputs": [],
   "source": [
    "AnimationFrames = 200  #total number of frames in animation.\n",
    "DelayBetweenFrames = 33 #in msec (20 gives 50 fps) (33.3 gives 30 fps)\n",
    "AnimationTime = AnimationFrames * DelayBetweenFrames/1000\n",
    "print (\"The animation will be {:.1f} seconds long.\".format(AnimationTime))"
   ]
  },
  {
   "cell_type": "code",
   "execution_count": null,
   "metadata": {
    "collapsed": false,
    "scrolled": false
   },
   "outputs": [],
   "source": [
    "af(1)\n",
    "MyFigure"
   ]
  },
  {
   "cell_type": "code",
   "execution_count": null,
   "metadata": {
    "collapsed": false,
    "scrolled": true
   },
   "outputs": [],
   "source": [
    "MyAnimation = animation.FuncAnimation(MyFigure, af,\n",
    "                               frames=AnimationFrames, interval=DelayBetweenFrames, blit=False)\n",
    "MyAnimation"
   ]
  },
  {
   "cell_type": "markdown",
   "metadata": {},
   "source": [
    "<h2>Glider Example</h2>\n",
    "<h3>Small Grid Example</h3>\n",
    "<p>A good test for the game of life simulation is if a <a href = http://web.stanford.edu/~cdebs/GameOfLife/ >glider</a> will act correctly. "
   ]
  },
  {
   "cell_type": "code",
   "execution_count": null,
   "metadata": {
    "collapsed": false,
    "scrolled": false
   },
   "outputs": [],
   "source": [
    "rows = 5\n",
    "columns = 5\n",
    "MyGrid=CAGrid((rows,columns),MyDtype)  #initilized with whatever random memory was at the location.\n",
    "numpy.copyto(MyGrid['State'],numpy.zeros((rows,columns),dtype=numpy.dtype(bool)))\n",
    "MyGrid['State'][0][1] = True\n",
    "MyGrid['State'][1][1] = True\n",
    "MyGrid['State'][1][2] = True\n",
    "MyGrid['State'][2][0] = True\n",
    "MyGrid['State'][2][2] = True\n",
    "\n",
    "MyGrid.FinishUpdate()\n",
    "MyAxes.matshow(MyGrid['State'])\n",
    "MyFigure"
   ]
  },
  {
   "cell_type": "code",
   "execution_count": null,
   "metadata": {
    "collapsed": false,
    "scrolled": false
   },
   "outputs": [],
   "source": [
    "AnimationFrames = 20  #total number of frames in animation.\n",
    "DelayBetweenFrames = 1000 #in msec (20 gives 50 fps) (33.3 gives 30 fps)\n",
    "AnimationTime = AnimationFrames * DelayBetweenFrames/1000\n",
    "print (\"The animation will be {:.1f} seconds long.\".format(AnimationTime))"
   ]
  },
  {
   "cell_type": "code",
   "execution_count": null,
   "metadata": {
    "collapsed": false,
    "scrolled": false
   },
   "outputs": [],
   "source": [
    "MyAnimation = animation.FuncAnimation(MyFigure, af,\n",
    "                               frames=AnimationFrames, interval=DelayBetweenFrames, blit=False)\n",
    "MyAnimation"
   ]
  },
  {
   "cell_type": "markdown",
   "metadata": {},
   "source": [
    "<h3>Large Grid Example</h3>\n",
    "<h4>Up and to the right</h4>"
   ]
  },
  {
   "cell_type": "code",
   "execution_count": null,
   "metadata": {
    "collapsed": false,
    "scrolled": false
   },
   "outputs": [],
   "source": [
    "rows = 25\n",
    "columns = 50\n",
    "MyGrid=CAGrid((rows,columns),MyDtype)  #initilized with whatever random memory was at the location.\n",
    "numpy.copyto(MyGrid['State'],numpy.zeros((rows,columns),dtype=numpy.dtype(bool)))\n",
    "MyGrid['State'][0][1] = True\n",
    "MyGrid['State'][1][1] = True\n",
    "MyGrid['State'][1][2] = True\n",
    "MyGrid['State'][2][0] = True\n",
    "MyGrid['State'][2][2] = True\n",
    "\n",
    "MyGrid.FinishUpdate()\n",
    "MyAxes.matshow(MyGrid['State'])\n",
    "MyFigure"
   ]
  },
  {
   "cell_type": "code",
   "execution_count": null,
   "metadata": {
    "collapsed": false,
    "scrolled": true
   },
   "outputs": [],
   "source": [
    "AnimationFrames = 250  #total number of frames in animation.\n",
    "DelayBetweenFrames = 20 #in msec (20 gives 50 fps) (33.3 gives 30 fps)\n",
    "AnimationTime = AnimationFrames * DelayBetweenFrames/1000\n",
    "print (\"The animation will be {:.1f} seconds long.\".format(AnimationTime))"
   ]
  },
  {
   "cell_type": "code",
   "execution_count": null,
   "metadata": {
    "collapsed": false,
    "scrolled": false
   },
   "outputs": [],
   "source": [
    "MyAnimation = animation.FuncAnimation(MyFigure, af,\n",
    "                               frames=AnimationFrames, interval=DelayBetweenFrames, blit=False)\n",
    "MyAnimation"
   ]
  },
  {
   "cell_type": "markdown",
   "metadata": {},
   "source": [
    "<h4>Down and to the left</h4>"
   ]
  },
  {
   "cell_type": "code",
   "execution_count": null,
   "metadata": {
    "collapsed": false,
    "scrolled": false
   },
   "outputs": [],
   "source": [
    "rows = 25\n",
    "columns = 50\n",
    "MyGrid=CAGrid((rows,columns),MyDtype)  #initilized with whatever random memory was at the location.\n",
    "numpy.copyto(MyGrid['State'],numpy.zeros((rows,columns),dtype=numpy.dtype(bool)))\n",
    "MyGrid['State'][5][10] = True\n",
    "MyGrid['State'][6][10] = True\n",
    "MyGrid['State'][6][11] = True\n",
    "MyGrid['State'][7][9]  = True\n",
    "MyGrid['State'][7][11] = True\n",
    "\n",
    "MyGrid['State'][12][20] = True\n",
    "MyGrid['State'][11][20] = True\n",
    "MyGrid['State'][11][21] = True\n",
    "MyGrid['State'][10][19] = True\n",
    "MyGrid['State'][10][21] = True\n",
    "\n",
    "MyGrid['State'][22][40] = True\n",
    "MyGrid['State'][21][40] = True\n",
    "MyGrid['State'][21][39] = True\n",
    "MyGrid['State'][20][41] = True\n",
    "MyGrid['State'][20][39] = True\n",
    "\n",
    "\n",
    "MyGrid.FinishUpdate()\n",
    "MyAxes.matshow(MyGrid['Value'])\n",
    "MyFigure"
   ]
  },
  {
   "cell_type": "code",
   "execution_count": null,
   "metadata": {
    "collapsed": false,
    "scrolled": true
   },
   "outputs": [],
   "source": [
    "AnimationFrames = 100  #total number of frames in animation.\n",
    "DelayBetweenFrames = 100 #in msec (20 gives 50 fps) (33.3 gives 30 fps)\n",
    "AnimationTime = AnimationFrames * DelayBetweenFrames/1000\n",
    "print (\"The animation will be {:.1f} seconds long.\".format(AnimationTime))"
   ]
  },
  {
   "cell_type": "code",
   "execution_count": null,
   "metadata": {
    "collapsed": false,
    "scrolled": true
   },
   "outputs": [],
   "source": [
    "MyAnimation = animation.FuncAnimation(MyFigure, af,\n",
    "                               frames=AnimationFrames, interval=DelayBetweenFrames, blit=False)\n",
    "MyAnimation"
   ]
  },
  {
   "cell_type": "code",
   "execution_count": null,
   "metadata": {
    "collapsed": false
   },
   "outputs": [],
   "source": [
    "MyAnimation.save('ThreeGliders.mp4')"
   ]
  },
  {
   "cell_type": "markdown",
   "metadata": {},
   "source": [
    "<h2>Full Game of Life Simulations</h2>\n",
    "<h3>Simulation 01</h3>"
   ]
  },
  {
   "cell_type": "code",
   "execution_count": null,
   "metadata": {
    "collapsed": false,
    "scrolled": false
   },
   "outputs": [],
   "source": [
    "rows = 50\n",
    "columns = 75\n",
    "MyGrid=CAGrid((rows,columns),MyDtype)  #initilized with whatever random memory was at the location.\n",
    "MyGrid.FinishUpdate()\n",
    "MyAxes.matshow(MyGrid['Value'])\n",
    "MyFigure"
   ]
  },
  {
   "cell_type": "code",
   "execution_count": null,
   "metadata": {
    "collapsed": false,
    "scrolled": true
   },
   "outputs": [],
   "source": [
    "AnimationFrames = 1000  #total number of frames in animation.\n",
    "DelayBetweenFrames = 33 #in msec (20 gives 50 fps) (33.3 gives 30 fps)\n",
    "AnimationTime = AnimationFrames * DelayBetweenFrames/1000\n",
    "print (\"The animation will be {:.1f} seconds long.\".format(AnimationTime))"
   ]
  },
  {
   "cell_type": "code",
   "execution_count": null,
   "metadata": {
    "collapsed": false,
    "scrolled": false
   },
   "outputs": [],
   "source": [
    "MyAnimation = animation.FuncAnimation(MyFigure, af,\n",
    "                               frames=AnimationFrames, interval=DelayBetweenFrames, blit=False)\n",
    "MyAnimation"
   ]
  },
  {
   "cell_type": "markdown",
   "metadata": {},
   "source": [
    "<h3>Simulation 02</h3>"
   ]
  },
  {
   "cell_type": "code",
   "execution_count": null,
   "metadata": {
    "collapsed": false,
    "scrolled": false
   },
   "outputs": [],
   "source": [
    "rows = 75\n",
    "columns = 115\n",
    "MyGrid=CAGrid((rows,columns),MyDtype)  #initilized with whatever random memory was at the location.\n",
    "MyGrid.SetValue()\n",
    "MyGrid.SetBoundary()\n",
    "MyFigure, MyAxes = plt.subplots()\n",
    "MyAxes.matshow(MyGrid['State'])"
   ]
  },
  {
   "cell_type": "code",
   "execution_count": null,
   "metadata": {
    "collapsed": false,
    "scrolled": true
   },
   "outputs": [],
   "source": [
    "AnimationFrames = 600  #total number of frames in animation.\n",
    "DelayBetweenFrames = 33 #in msec (20 gives 50 fps) (33.3 gives 30 fps)\n",
    "AnimationTime = AnimationFrames * DelayBetweenFrames/1000\n",
    "print (\"The animation will be {:.1f} seconds long.\".format(AnimationTime))"
   ]
  },
  {
   "cell_type": "code",
   "execution_count": null,
   "metadata": {
    "collapsed": false,
    "scrolled": false
   },
   "outputs": [],
   "source": [
    "MyAnimation = animation.FuncAnimation(MyFigure, af,\n",
    "                               frames=AnimationFrames, interval=DelayBetweenFrames, blit=False)\n",
    "MyAnimation"
   ]
  },
  {
   "cell_type": "code",
   "execution_count": null,
   "metadata": {
    "collapsed": false,
    "scrolled": false
   },
   "outputs": [],
   "source": [
    "MyAnimationB = animation.FuncAnimation(MyFigure, af,\n",
    "                               frames=AnimationFrames, interval=DelayBetweenFrames, blit=False)\n",
    "MyAnimationB"
   ]
  },
  {
   "cell_type": "code",
   "execution_count": null,
   "metadata": {
    "collapsed": false,
    "scrolled": false
   },
   "outputs": [],
   "source": [
    "MyAnimationC = animation.FuncAnimation(MyFigure, af,\n",
    "                               frames=AnimationFrames, interval=DelayBetweenFrames, blit=False)\n",
    "MyAnimationC"
   ]
  },
  {
   "cell_type": "code",
   "execution_count": null,
   "metadata": {
    "collapsed": true,
    "scrolled": false
   },
   "outputs": [],
   "source": []
  }
 ],
 "metadata": {
  "anaconda-cloud": {},
  "kernelspec": {
   "display_name": "Python [conda root]",
   "language": "python",
   "name": "conda-root-py"
  },
  "language_info": {
   "codemirror_mode": {
    "name": "ipython",
    "version": 3
   },
   "file_extension": ".py",
   "mimetype": "text/x-python",
   "name": "python",
   "nbconvert_exporter": "python",
   "pygments_lexer": "ipython3",
   "version": "3.5.2"
  }
 },
 "nbformat": 4,
 "nbformat_minor": 0
}
