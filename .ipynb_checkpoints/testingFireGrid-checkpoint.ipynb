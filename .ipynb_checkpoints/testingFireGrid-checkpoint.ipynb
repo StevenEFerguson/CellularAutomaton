{
 "cells": [
  {
   "cell_type": "markdown",
   "metadata": {},
   "source": [
    "<center><h1>Testing and Documentation Notebook for Cellular Automaton Using Inheritance from Numpy NDArray</h1></center>\n",
    "<p>This document is for testing of a cellular automaton class which inherits much of its functionality from the Numpy module.  The class enables use of the array opperations (implemented in C) which should make the execution speed better.</p>\n",
    "<h2>Initialization</h2>"
   ]
  },
  {
   "cell_type": "code",
   "execution_count": 1,
   "metadata": {
    "collapsed": false,
    "scrolled": true
   },
   "outputs": [],
   "source": [
    "from FireSimulation import *\n",
    "FireGrid.IncludeDiagonalNeighbors = False\n",
    "\n",
    "from IPython.display import display\n",
    "from IPython.display import HTML\n",
    "import inspect\n",
    "from random import uniform\n",
    "\n",
    "from math import *\n",
    "%matplotlib inline\n",
    "import matplotlib\n",
    "from matplotlib import pyplot as plt\n",
    "from matplotlib import animation\n",
    "matplotlib.rc('animation', html='html5')\n",
    "goldenratio=1/2*(1+sqrt(5))\n",
    "fsx=7\n",
    "fsy=fsx/goldenratio\n",
    "\n",
    "def InfoDocString(function):\n",
    "    \"\"\"Function to return function definition and document string.\"\"\"\n",
    "    \n",
    "    code = inspect.getsource(function)\n",
    "    docstring = inspect.getdoc(function)\n",
    "    return code[0:code.find(':')+1].lstrip() +'\\n' + docstring"
   ]
  },
  {
   "cell_type": "markdown",
   "metadata": {},
   "source": [
    "<h3>Functions to help with testing</h3>"
   ]
  },
  {
   "cell_type": "code",
   "execution_count": 2,
   "metadata": {
    "collapsed": false,
    "scrolled": false
   },
   "outputs": [],
   "source": [
    "MyDtype = numpy.dtype([('Tree', bool), ('Burning', bool), ('ProbImmune', 'f'), ('Value', 'f', (3,))])"
   ]
  },
  {
   "cell_type": "code",
   "execution_count": 3,
   "metadata": {
    "collapsed": false,
    "scrolled": true
   },
   "outputs": [],
   "source": [
    "def uf():\n",
    "    MyGrid.Update()\n",
    "    MyAxes.imshow(MyGrid['Value'],interpolation='nearest')\n",
    "    #MyAxes.imshow(MyGrid['Value'])\n",
    "    MyFigure"
   ]
  },
  {
   "cell_type": "code",
   "execution_count": 4,
   "metadata": {
    "collapsed": true,
    "scrolled": true
   },
   "outputs": [],
   "source": [
    "def af(n):\n",
    "    uf()"
   ]
  },
  {
   "cell_type": "code",
   "execution_count": 5,
   "metadata": {
    "collapsed": true,
    "scrolled": false
   },
   "outputs": [],
   "source": [
    "def init(grid, rows, columns, probtree, probburning):\n",
    "    for y in range(rows):\n",
    "        for x in range(columns):\n",
    "            grid['ProbImmune'][y][x]  = random() * 4\n",
    "            if random() < probtree:\n",
    "                MyGrid['Tree'][y][x]    = True\n",
    "                MyGrid['Burning'][y][x] = random() < probburning\n",
    "            else:\n",
    "                MyGrid['Tree'][y][x]    = False\n",
    "                MyGrid['Burning'][y][x] = False\n",
    "    grid.SetValue()\n",
    "    grid.SetBoundary()"
   ]
  },
  {
   "cell_type": "code",
   "execution_count": 6,
   "metadata": {
    "collapsed": true
   },
   "outputs": [],
   "source": [
    "def FireGridCopy(OldGrid):\n",
    "    New = FireGrid(OldGrid.shape, OldGrid.dtype)\n",
    "    numpy.copyto(New,OldGrid)\n",
    "    New.SetValue()\n",
    "    New.SetBoundary()\n",
    "    return New"
   ]
  },
  {
   "cell_type": "code",
   "execution_count": 7,
   "metadata": {
    "collapsed": false,
    "scrolled": false
   },
   "outputs": [
    {
     "data": {
      "image/png": "[encoded data removed]",
      "text/plain": [
       "<matplotlib.figure.Figure at 0x7da4e48>"
      ]
     },
     "metadata": {},
     "output_type": "display_data"
    }
   ],
   "source": [
    "MyFigure, MyAxes = plt.subplots(1,1,figsize=(fsx,fsy))"
   ]
  },
  {
   "cell_type": "code",
   "execution_count": 8,
   "metadata": {
    "collapsed": false
   },
   "outputs": [],
   "source": [
    "from pathlib import Path\n",
    "Path('TimingFile.txt').touch()\n",
    "tf=0"
   ]
  },
  {
   "cell_type": "markdown",
   "metadata": {},
   "source": [
    "<h2>Class Structure</h2>\n",
    "<p>The class FireGrid inherts CAGird.  The information about this class is below.</p>"
   ]
  },
  {
   "cell_type": "code",
   "execution_count": 9,
   "metadata": {
    "collapsed": false,
    "scrolled": false
   },
   "outputs": [
    {
     "name": "stdout",
     "output_type": "stream",
     "text": [
      "class FireGrid(CAGrid):\n",
      "This class derives from CAGrid and changes update to make this a first simulation\n"
     ]
    }
   ],
   "source": [
    "print(InfoDocString(FireGrid))"
   ]
  },
  {
   "cell_type": "code",
   "execution_count": 10,
   "metadata": {
    "collapsed": false,
    "scrolled": false
   },
   "outputs": [
    {
     "name": "stdout",
     "output_type": "stream",
     "text": [
      "def Update(self):\n",
      "Update rules for a simple fire simulation\n"
     ]
    }
   ],
   "source": [
    "print(InfoDocString(FireGrid.Update))"
   ]
  },
  {
   "cell_type": "markdown",
   "metadata": {},
   "source": [
    "<h2>Test a 3 x 3 Behavior</h2>\n",
    "<p>Below, we test a 3 X 3 grid.  The initial state of each cell is random.  We can check the behavior by visuallt inspecting the grid before an after updates.</p>"
   ]
  },
  {
   "cell_type": "code",
   "execution_count": 11,
   "metadata": {
    "collapsed": false,
    "scrolled": false
   },
   "outputs": [
    {
     "name": "stdout",
     "output_type": "stream",
     "text": [
      "The tree grid is:\n",
      "[[ True False  True]\n",
      " [ True False  True]\n",
      " [ True  True  True]]\n",
      "The Burrning grid is\n",
      "[[False False False]\n",
      " [False False False]\n",
      " [False False False]]\n"
     ]
    },
    {
     "data": {
      "image/png": "[encoded data removed]",
      "text/plain": [
       "<matplotlib.figure.Figure at 0x7da4e48>"
      ]
     },
     "execution_count": 11,
     "metadata": {},
     "output_type": "execute_result"
    }
   ],
   "source": [
    "rows = 3\n",
    "columns = 3\n",
    "MyGrid=FireGrid((rows,columns),MyDtype)\n",
    "init(MyGrid,rows,columns,0.80,0.1)\n",
    "MyAxes.imshow(MyGrid['Value'],interpolation='nearest')\n",
    "print('The tree grid is:')\n",
    "print(MyGrid['Tree'])\n",
    "print('The Burrning grid is')\n",
    "print(MyGrid['Burning'])\n",
    "MyFigure"
   ]
  },
  {
   "cell_type": "code",
   "execution_count": 12,
   "metadata": {
    "collapsed": false,
    "scrolled": true
   },
   "outputs": [
    {
     "data": {
      "image/png": "[encoded data removed]",
      "text/plain": [
       "<matplotlib.figure.Figure at 0x7da4e48>"
      ]
     },
     "execution_count": 12,
     "metadata": {},
     "output_type": "execute_result"
    }
   ],
   "source": [
    "MyGrid.Update()\n",
    "MyAxes.imshow(MyGrid['Value'],interpolation='nearest')\n",
    "MyFigure"
   ]
  },
  {
   "cell_type": "code",
   "execution_count": 13,
   "metadata": {
    "collapsed": false,
    "scrolled": true
   },
   "outputs": [
    {
     "data": {
      "image/png": "[encoded data removed]",
      "text/plain": [
       "<matplotlib.figure.Figure at 0x7da4e48>"
      ]
     },
     "execution_count": 13,
     "metadata": {},
     "output_type": "execute_result"
    }
   ],
   "source": [
    "MyGrid.Update()\n",
    "MyAxes.imshow(MyGrid['Value'],interpolation='nearest')\n",
    "MyFigure"
   ]
  },
  {
   "cell_type": "code",
   "execution_count": 14,
   "metadata": {
    "collapsed": false,
    "scrolled": true
   },
   "outputs": [
    {
     "data": {
      "image/png": "[encoded data removed]",
      "text/plain": [
       "<matplotlib.figure.Figure at 0x7da4e48>"
      ]
     },
     "execution_count": 14,
     "metadata": {},
     "output_type": "execute_result"
    }
   ],
   "source": [
    "MyGrid.Update()\n",
    "MyAxes.imshow(MyGrid['Value'],interpolation='nearest')\n",
    "MyFigure"
   ]
  },
  {
   "cell_type": "markdown",
   "metadata": {},
   "source": [
    "<h2>Small Grid Animation Test</h2>\n",
    "<p>In the cells below, we setup the simulation and run a small fire simulation.</p>\n",
    "<p>We will also test two different codecs for using ffmpeg to create the vidoe files.  We create the exact same animation using differnt codecs.  Based on the file system time stamps, the libx264 codec seems to be faster and less compressed.  It seems this is the better codec choice.</p>"
   ]
  },
  {
   "cell_type": "code",
   "execution_count": 15,
   "metadata": {
    "collapsed": false,
    "scrolled": true
   },
   "outputs": [
    {
     "data": {
      "text/plain": [
       "<matplotlib.image.AxesImage at 0x815c9e8>"
      ]
     },
     "execution_count": 15,
     "metadata": {},
     "output_type": "execute_result"
    },
    {
     "data": {
      "image/png": "[encoded data removed]",
      "text/plain": [
       "<matplotlib.figure.Figure at 0x815ca20>"
      ]
     },
     "metadata": {},
     "output_type": "display_data"
    }
   ],
   "source": [
    "rows = 25\n",
    "columns = 50\n",
    "MyGrid=FireGrid((rows,columns),MyDtype)  #initilized with whatever random memory was at the location.\n",
    "init(MyGrid,rows,columns,probtree=0.75, probburning=0.01)\n",
    "SmallGrid01=FireGridCopy(MyGrid)\n",
    "MyFigure, MyAxes = plt.subplots()\n",
    "MyAxes.imshow(MyGrid['Value'],interpolation='nearest')"
   ]
  },
  {
   "cell_type": "code",
   "execution_count": 16,
   "metadata": {
    "collapsed": false
   },
   "outputs": [
    {
     "data": {
      "image/png": "[encoded data removed]",
      "text/plain": [
       "<matplotlib.figure.Figure at 0x815ca20>"
      ]
     },
     "execution_count": 16,
     "metadata": {},
     "output_type": "execute_result"
    }
   ],
   "source": [
    "MyAxes.imshow(SmallGrid01['Value'],interpolation='nearest')\n",
    "MyFigure"
   ]
  },
  {
   "cell_type": "code",
   "execution_count": 17,
   "metadata": {
    "collapsed": false,
    "scrolled": false
   },
   "outputs": [
    {
     "name": "stdout",
     "output_type": "stream",
     "text": [
      "The animation will be 2.5 seconds long.\n"
     ]
    }
   ],
   "source": [
    "AnimationFrames = 50  #total number of frames in animation.\n",
    "DelayBetweenFrames = 50 #in msec (20 gives 50 fps) (33.3 gives 30 fps)\n",
    "AnimationTime = AnimationFrames * DelayBetweenFrames/1000\n",
    "print (\"The animation will be {:.1f} seconds long.\".format(AnimationTime))"
   ]
  },
  {
   "cell_type": "code",
   "execution_count": 18,
   "metadata": {
    "collapsed": false,
    "scrolled": true
   },
   "outputs": [],
   "source": [
    "tf+=1\n",
    "Path('TimingFile{:0>2}.txt'.format(tf)).touch()\n",
    "MyAnimation = animation.FuncAnimation(MyFigure, af,\n",
    "                               frames=AnimationFrames, interval=DelayBetweenFrames, blit=False)\n",
    "MyAnimation.save('FireSim_Small_Grid_libx264.mp4',extra_args=['-vcodec', 'libx264'])"
   ]
  },
  {
   "cell_type": "markdown",
   "metadata": {},
   "source": [
    "<video controls autoplay loop src=\"FireSim_Small_Grid_libx264.mp4\" />"
   ]
  },
  {
   "cell_type": "code",
   "execution_count": 19,
   "metadata": {
    "collapsed": false,
    "scrolled": true
   },
   "outputs": [],
   "source": [
    "MyGrid = FireGridCopy(SmallGrid01)\n",
    "tf+=1\n",
    "Path('TimingFile{:0>2}.txt'.format(tf)).touch()\n",
    "MyAnimation = animation.FuncAnimation(MyFigure, af,\n",
    "                               frames=AnimationFrames, interval=DelayBetweenFrames, blit=False)\n",
    "MyAnimation.save('FireSim_Small_Grid_h264.mp4',extra_args=['-vcodec', 'h264'])"
   ]
  },
  {
   "cell_type": "markdown",
   "metadata": {},
   "source": [
    "<video controls autoplay loop src=\"FireSim_Small_Grid_h264.mp4\" />"
   ]
  },
  {
   "cell_type": "markdown",
   "metadata": {},
   "source": [
    "<h2>Large Grid Simulations</h2>\n",
    "<h3>Simulation 01 - ProbTree = 0.80, ProbBurning = 0.01</h3>\n",
    "<p>Now we can make some real simulations.</p>\n",
    "<p>We will again run a timing test.  When the h264 codec went first, it took 1:02, and the libx264 took 2:31.  Reversing the order, flips the results.  When the libx264 codec went first, it took 1:01, and the h264 codec took 2:29</p>"
   ]
  },
  {
   "cell_type": "code",
   "execution_count": 20,
   "metadata": {
    "collapsed": false,
    "scrolled": false
   },
   "outputs": [
    {
     "data": {
      "text/plain": [
       "<matplotlib.image.AxesImage at 0xa6e8828>"
      ]
     },
     "execution_count": 20,
     "metadata": {},
     "output_type": "execute_result"
    },
    {
     "data": {
      "image/png": "[encoded data removed]",
      "text/plain": [
       "<matplotlib.figure.Figure at 0xa6e8f28>"
      ]
     },
     "metadata": {},
     "output_type": "display_data"
    }
   ],
   "source": [
    "rows = 100\n",
    "columns = 200\n",
    "MyGrid=FireGrid((rows,columns),MyDtype)  #initilized with whatever random memory was at the location.\n",
    "init(MyGrid,rows,columns,probtree = 0.80, probburning=0.01)\n",
    "LargeGrid01=FireGridCopy(MyGrid)\n",
    "MyFigure, MyAxes = plt.subplots()\n",
    "MyAxes.imshow(MyGrid['Value'],interpolation='nearest')"
   ]
  },
  {
   "cell_type": "code",
   "execution_count": 27,
   "metadata": {
    "collapsed": false
   },
   "outputs": [
    {
     "data": {
      "image/png": "[encoded data removed]",
      "text/plain": [
       "<matplotlib.figure.Figure at 0xc9e57f0>"
      ]
     },
     "execution_count": 27,
     "metadata": {},
     "output_type": "execute_result"
    }
   ],
   "source": [
    "MyAxes.imshow(LargeGrid01['Value'],interpolation='nearest')\n",
    "MyFigure"
   ]
  },
  {
   "cell_type": "code",
   "execution_count": 22,
   "metadata": {
    "collapsed": false,
    "scrolled": false
   },
   "outputs": [
    {
     "name": "stdout",
     "output_type": "stream",
     "text": [
      "The animation will be 10.0 seconds long.\n"
     ]
    }
   ],
   "source": [
    "AnimationFrames = 200  #total number of frames in animation.\n",
    "DelayBetweenFrames = 50 #in msec (20 gives 50 fps) (33.3 gives 30 fps)\n",
    "AnimationTime = AnimationFrames * DelayBetweenFrames/1000\n",
    "print (\"The animation will be {:.1f} seconds long.\".format(AnimationTime))"
   ]
  },
  {
   "cell_type": "code",
   "execution_count": 23,
   "metadata": {
    "collapsed": false,
    "scrolled": true
   },
   "outputs": [],
   "source": [
    "tf+=1\n",
    "Path('TimingFile{:0>2}.txt'.format(tf)).touch()\n",
    "MyAnimation = animation.FuncAnimation(MyFigure, af,\n",
    "                               frames=AnimationFrames, interval=DelayBetweenFrames, blit=False)\n",
    "MyAnimation.save('FireSim_80_01_libx264.mp4',extra_args=['-vcodec', 'libx264'])"
   ]
  },
  {
   "cell_type": "markdown",
   "metadata": {},
   "source": [
    "<video controls autoplay loop src=\"FireSim_80_01_libx264.mp4\" />"
   ]
  },
  {
   "cell_type": "code",
   "execution_count": 24,
   "metadata": {
    "collapsed": true
   },
   "outputs": [],
   "source": [
    "MyGrid = FireGridCopy(LargeGrid01)"
   ]
  },
  {
   "cell_type": "code",
   "execution_count": 25,
   "metadata": {
    "collapsed": false,
    "scrolled": true
   },
   "outputs": [],
   "source": [
    "tf+=1\n",
    "Path('TimingFile{:0>2}.txt'.format(tf)).touch()\n",
    "MyAnimation = animation.FuncAnimation(MyFigure, af,\n",
    "                               frames=AnimationFrames, interval=DelayBetweenFrames, blit=False)\n",
    "MyAnimation.save('FireSim_80_01_h264.mp4',extra_args=['-vcodec', 'h264'])"
   ]
  },
  {
   "cell_type": "markdown",
   "metadata": {},
   "source": [
    "<video controls autoplay loop src=\"FireSim_80_01_h264.mp4\" />"
   ]
  },
  {
   "cell_type": "markdown",
   "metadata": {},
   "source": [
    "<h3>Simulation 02 - ProbTree = 0.90, FireFront</h3>\n",
    "<p>Let us now run some simulations looking at the tree density effect.  We will start with a very dense forest, and go to less dense forests and look at how the density change effects the fire spread.</p>"
   ]
  },
  {
   "cell_type": "code",
   "execution_count": 45,
   "metadata": {
    "collapsed": false,
    "scrolled": false
   },
   "outputs": [
    {
     "data": {
      "text/plain": [
       "<matplotlib.image.AxesImage at 0x18df6eb8>"
      ]
     },
     "execution_count": 45,
     "metadata": {},
     "output_type": "execute_result"
    },
    {
     "data": {
      "image/png": "[encoded data removed]",
      "text/plain": [
       "<matplotlib.figure.Figure at 0x18df6ef0>"
      ]
     },
     "metadata": {},
     "output_type": "display_data"
    }
   ],
   "source": [
    "rows = 100\n",
    "columns = 200\n",
    "MyGrid=FireGrid((rows,columns),MyDtype)  #initilized with whatever random memory was at the location.\n",
    "init(MyGrid,rows,columns,probtree = 0.90, probburning=0)\n",
    "for r in range(MyGrid.shape[0]):\n",
    "    MyGrid['Burning'][r][1] = True\n",
    "MyGrid.SetValue()\n",
    "MyFigure, MyAxes = plt.subplots()\n",
    "MyAxes.imshow(MyGrid['Value'],interpolation='nearest')"
   ]
  },
  {
   "cell_type": "code",
   "execution_count": 46,
   "metadata": {
    "collapsed": false,
    "scrolled": false
   },
   "outputs": [
    {
     "name": "stdout",
     "output_type": "stream",
     "text": [
      "The animation will be 10.0 seconds long.\n"
     ]
    }
   ],
   "source": [
    "AnimationFrames = 200  #total number of frames in animation.\n",
    "DelayBetweenFrames = 50 #in msec (20 gives 50 fps) (33.3 gives 30 fps)\n",
    "AnimationTime = AnimationFrames * DelayBetweenFrames/1000\n",
    "print (\"The animation will be {:.1f} seconds long.\".format(AnimationTime))"
   ]
  },
  {
   "cell_type": "code",
   "execution_count": 47,
   "metadata": {
    "collapsed": false,
    "scrolled": true
   },
   "outputs": [],
   "source": [
    "tf+=1\n",
    "Path('TimingFile{:0>2}.txt'.format(tf)).touch()\n",
    "MyAnimation = animation.FuncAnimation(MyFigure, af,\n",
    "                               frames=AnimationFrames, interval=DelayBetweenFrames, blit=False)\n",
    "MyAnimation.save('FireSim_90.mp4',extra_args=['-vcodec', 'libx264'])"
   ]
  },
  {
   "cell_type": "markdown",
   "metadata": {},
   "source": [
    "<video controls autoplay loop src=\"FireSim_90.mp4\" />"
   ]
  },
  {
   "cell_type": "code",
   "execution_count": null,
   "metadata": {
    "collapsed": true
   },
   "outputs": [],
   "source": []
  }
 ],
 "metadata": {
  "anaconda-cloud": {},
  "kernelspec": {
   "display_name": "Python [conda root]",
   "language": "python",
   "name": "conda-root-py"
  },
  "language_info": {
   "codemirror_mode": {
    "name": "ipython",
    "version": 3
   },
   "file_extension": ".py",
   "mimetype": "text/x-python",
   "name": "python",
   "nbconvert_exporter": "python",
   "pygments_lexer": "ipython3",
   "version": "3.5.2"
  }
 },
 "nbformat": 4,
 "nbformat_minor": 0
}
